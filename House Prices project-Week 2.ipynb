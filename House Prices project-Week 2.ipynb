{
 "cells": [
  {
   "cell_type": "code",
   "execution_count": 1,
   "id": "baebfc88",
   "metadata": {},
   "outputs": [],
   "source": [
    "import pandas as pd\n",
    "import numpy as np"
   ]
  },
  {
   "cell_type": "markdown",
   "id": "69933df8",
   "metadata": {},
   "source": [
    "### Data preparation"
   ]
  },
  {
   "cell_type": "code",
   "execution_count": 2,
   "id": "48857814",
   "metadata": {},
   "outputs": [],
   "source": [
    "df = pd.read_csv('raw-Copy1.githubusercontent.com_alexeygrigorev_datasets_master_housing.csv')"
   ]
  },
  {
   "cell_type": "code",
   "execution_count": 3,
   "id": "8b8d4996",
   "metadata": {
    "scrolled": true
   },
   "outputs": [
    {
     "data": {
      "text/html": [
       "<div>\n",
       "<style scoped>\n",
       "    .dataframe tbody tr th:only-of-type {\n",
       "        vertical-align: middle;\n",
       "    }\n",
       "\n",
       "    .dataframe tbody tr th {\n",
       "        vertical-align: top;\n",
       "    }\n",
       "\n",
       "    .dataframe thead th {\n",
       "        text-align: right;\n",
       "    }\n",
       "</style>\n",
       "<table border=\"1\" class=\"dataframe\">\n",
       "  <thead>\n",
       "    <tr style=\"text-align: right;\">\n",
       "      <th></th>\n",
       "      <th>longitude</th>\n",
       "      <th>latitude</th>\n",
       "      <th>housing_median_age</th>\n",
       "      <th>total_rooms</th>\n",
       "      <th>total_bedrooms</th>\n",
       "      <th>population</th>\n",
       "      <th>households</th>\n",
       "      <th>median_income</th>\n",
       "      <th>median_house_value</th>\n",
       "      <th>ocean_proximity</th>\n",
       "    </tr>\n",
       "  </thead>\n",
       "  <tbody>\n",
       "    <tr>\n",
       "      <th>0</th>\n",
       "      <td>-122.23</td>\n",
       "      <td>37.88</td>\n",
       "      <td>41.0</td>\n",
       "      <td>880.0</td>\n",
       "      <td>129.0</td>\n",
       "      <td>322.0</td>\n",
       "      <td>126.0</td>\n",
       "      <td>8.3252</td>\n",
       "      <td>452600.0</td>\n",
       "      <td>NEAR BAY</td>\n",
       "    </tr>\n",
       "    <tr>\n",
       "      <th>1</th>\n",
       "      <td>-122.22</td>\n",
       "      <td>37.86</td>\n",
       "      <td>21.0</td>\n",
       "      <td>7099.0</td>\n",
       "      <td>1106.0</td>\n",
       "      <td>2401.0</td>\n",
       "      <td>1138.0</td>\n",
       "      <td>8.3014</td>\n",
       "      <td>358500.0</td>\n",
       "      <td>NEAR BAY</td>\n",
       "    </tr>\n",
       "    <tr>\n",
       "      <th>2</th>\n",
       "      <td>-122.24</td>\n",
       "      <td>37.85</td>\n",
       "      <td>52.0</td>\n",
       "      <td>1467.0</td>\n",
       "      <td>190.0</td>\n",
       "      <td>496.0</td>\n",
       "      <td>177.0</td>\n",
       "      <td>7.2574</td>\n",
       "      <td>352100.0</td>\n",
       "      <td>NEAR BAY</td>\n",
       "    </tr>\n",
       "    <tr>\n",
       "      <th>3</th>\n",
       "      <td>-122.25</td>\n",
       "      <td>37.85</td>\n",
       "      <td>52.0</td>\n",
       "      <td>1274.0</td>\n",
       "      <td>235.0</td>\n",
       "      <td>558.0</td>\n",
       "      <td>219.0</td>\n",
       "      <td>5.6431</td>\n",
       "      <td>341300.0</td>\n",
       "      <td>NEAR BAY</td>\n",
       "    </tr>\n",
       "    <tr>\n",
       "      <th>4</th>\n",
       "      <td>-122.25</td>\n",
       "      <td>37.85</td>\n",
       "      <td>52.0</td>\n",
       "      <td>1627.0</td>\n",
       "      <td>280.0</td>\n",
       "      <td>565.0</td>\n",
       "      <td>259.0</td>\n",
       "      <td>3.8462</td>\n",
       "      <td>342200.0</td>\n",
       "      <td>NEAR BAY</td>\n",
       "    </tr>\n",
       "    <tr>\n",
       "      <th>...</th>\n",
       "      <td>...</td>\n",
       "      <td>...</td>\n",
       "      <td>...</td>\n",
       "      <td>...</td>\n",
       "      <td>...</td>\n",
       "      <td>...</td>\n",
       "      <td>...</td>\n",
       "      <td>...</td>\n",
       "      <td>...</td>\n",
       "      <td>...</td>\n",
       "    </tr>\n",
       "    <tr>\n",
       "      <th>20635</th>\n",
       "      <td>-121.09</td>\n",
       "      <td>39.48</td>\n",
       "      <td>25.0</td>\n",
       "      <td>1665.0</td>\n",
       "      <td>374.0</td>\n",
       "      <td>845.0</td>\n",
       "      <td>330.0</td>\n",
       "      <td>1.5603</td>\n",
       "      <td>78100.0</td>\n",
       "      <td>INLAND</td>\n",
       "    </tr>\n",
       "    <tr>\n",
       "      <th>20636</th>\n",
       "      <td>-121.21</td>\n",
       "      <td>39.49</td>\n",
       "      <td>18.0</td>\n",
       "      <td>697.0</td>\n",
       "      <td>150.0</td>\n",
       "      <td>356.0</td>\n",
       "      <td>114.0</td>\n",
       "      <td>2.5568</td>\n",
       "      <td>77100.0</td>\n",
       "      <td>INLAND</td>\n",
       "    </tr>\n",
       "    <tr>\n",
       "      <th>20637</th>\n",
       "      <td>-121.22</td>\n",
       "      <td>39.43</td>\n",
       "      <td>17.0</td>\n",
       "      <td>2254.0</td>\n",
       "      <td>485.0</td>\n",
       "      <td>1007.0</td>\n",
       "      <td>433.0</td>\n",
       "      <td>1.7000</td>\n",
       "      <td>92300.0</td>\n",
       "      <td>INLAND</td>\n",
       "    </tr>\n",
       "    <tr>\n",
       "      <th>20638</th>\n",
       "      <td>-121.32</td>\n",
       "      <td>39.43</td>\n",
       "      <td>18.0</td>\n",
       "      <td>1860.0</td>\n",
       "      <td>409.0</td>\n",
       "      <td>741.0</td>\n",
       "      <td>349.0</td>\n",
       "      <td>1.8672</td>\n",
       "      <td>84700.0</td>\n",
       "      <td>INLAND</td>\n",
       "    </tr>\n",
       "    <tr>\n",
       "      <th>20639</th>\n",
       "      <td>-121.24</td>\n",
       "      <td>39.37</td>\n",
       "      <td>16.0</td>\n",
       "      <td>2785.0</td>\n",
       "      <td>616.0</td>\n",
       "      <td>1387.0</td>\n",
       "      <td>530.0</td>\n",
       "      <td>2.3886</td>\n",
       "      <td>89400.0</td>\n",
       "      <td>INLAND</td>\n",
       "    </tr>\n",
       "  </tbody>\n",
       "</table>\n",
       "<p>20640 rows × 10 columns</p>\n",
       "</div>"
      ],
      "text/plain": [
       "       longitude  latitude  housing_median_age  total_rooms  total_bedrooms  \\\n",
       "0        -122.23     37.88                41.0        880.0           129.0   \n",
       "1        -122.22     37.86                21.0       7099.0          1106.0   \n",
       "2        -122.24     37.85                52.0       1467.0           190.0   \n",
       "3        -122.25     37.85                52.0       1274.0           235.0   \n",
       "4        -122.25     37.85                52.0       1627.0           280.0   \n",
       "...          ...       ...                 ...          ...             ...   \n",
       "20635    -121.09     39.48                25.0       1665.0           374.0   \n",
       "20636    -121.21     39.49                18.0        697.0           150.0   \n",
       "20637    -121.22     39.43                17.0       2254.0           485.0   \n",
       "20638    -121.32     39.43                18.0       1860.0           409.0   \n",
       "20639    -121.24     39.37                16.0       2785.0           616.0   \n",
       "\n",
       "       population  households  median_income  median_house_value  \\\n",
       "0           322.0       126.0         8.3252            452600.0   \n",
       "1          2401.0      1138.0         8.3014            358500.0   \n",
       "2           496.0       177.0         7.2574            352100.0   \n",
       "3           558.0       219.0         5.6431            341300.0   \n",
       "4           565.0       259.0         3.8462            342200.0   \n",
       "...           ...         ...            ...                 ...   \n",
       "20635       845.0       330.0         1.5603             78100.0   \n",
       "20636       356.0       114.0         2.5568             77100.0   \n",
       "20637      1007.0       433.0         1.7000             92300.0   \n",
       "20638       741.0       349.0         1.8672             84700.0   \n",
       "20639      1387.0       530.0         2.3886             89400.0   \n",
       "\n",
       "      ocean_proximity  \n",
       "0            NEAR BAY  \n",
       "1            NEAR BAY  \n",
       "2            NEAR BAY  \n",
       "3            NEAR BAY  \n",
       "4            NEAR BAY  \n",
       "...               ...  \n",
       "20635          INLAND  \n",
       "20636          INLAND  \n",
       "20637          INLAND  \n",
       "20638          INLAND  \n",
       "20639          INLAND  \n",
       "\n",
       "[20640 rows x 10 columns]"
      ]
     },
     "execution_count": 3,
     "metadata": {},
     "output_type": "execute_result"
    }
   ],
   "source": [
    "df"
   ]
  },
  {
   "cell_type": "markdown",
   "id": "c9e21147",
   "metadata": {},
   "source": [
    "### EDA"
   ]
  },
  {
   "cell_type": "code",
   "execution_count": 4,
   "id": "62d5a791",
   "metadata": {},
   "outputs": [],
   "source": [
    "import matplotlib.pyplot as plt\n",
    "import seaborn as sns\n",
    "\n",
    "%matplotlib inline"
   ]
  },
  {
   "cell_type": "code",
   "execution_count": 5,
   "id": "ba4831e1",
   "metadata": {},
   "outputs": [
    {
     "data": {
      "text/plain": [
       "<Axes: xlabel='median_house_value', ylabel='Count'>"
      ]
     },
     "execution_count": 5,
     "metadata": {},
     "output_type": "execute_result"
    },
    {
     "data": {
      "image/png": "[encoded data removed]",
      "text/plain": [
       "<Figure size 640x480 with 1 Axes>"
      ]
     },
     "metadata": {},
     "output_type": "display_data"
    }
   ],
   "source": [
    "sns.histplot(df.median_house_value)"
   ]
  },
  {
   "cell_type": "markdown",
   "id": "e1af451c",
   "metadata": {},
   "source": [
    "## Preparing the dataset"
   ]
  },
  {
   "cell_type": "code",
   "execution_count": 6,
   "id": "edf53c42",
   "metadata": {},
   "outputs": [],
   "source": [
    "prox_ocean_option = ['<1H OCEAN', 'INLAND']\n",
    "  \n",
    "# selecting rows based on condition\n",
    "sub_df = df[df['ocean_proximity'].isin(prox_ocean_option)]"
   ]
  },
  {
   "cell_type": "code",
   "execution_count": 7,
   "id": "172d6164",
   "metadata": {},
   "outputs": [
    {
     "data": {
      "text/html": [
       "<div>\n",
       "<style scoped>\n",
       "    .dataframe tbody tr th:only-of-type {\n",
       "        vertical-align: middle;\n",
       "    }\n",
       "\n",
       "    .dataframe tbody tr th {\n",
       "        vertical-align: top;\n",
       "    }\n",
       "\n",
       "    .dataframe thead th {\n",
       "        text-align: right;\n",
       "    }\n",
       "</style>\n",
       "<table border=\"1\" class=\"dataframe\">\n",
       "  <thead>\n",
       "    <tr style=\"text-align: right;\">\n",
       "      <th></th>\n",
       "      <th>longitude</th>\n",
       "      <th>latitude</th>\n",
       "      <th>housing_median_age</th>\n",
       "      <th>total_rooms</th>\n",
       "      <th>total_bedrooms</th>\n",
       "      <th>population</th>\n",
       "      <th>households</th>\n",
       "      <th>median_income</th>\n",
       "      <th>median_house_value</th>\n",
       "      <th>ocean_proximity</th>\n",
       "    </tr>\n",
       "  </thead>\n",
       "  <tbody>\n",
       "    <tr>\n",
       "      <th>701</th>\n",
       "      <td>-121.97</td>\n",
       "      <td>37.64</td>\n",
       "      <td>32.0</td>\n",
       "      <td>1283.0</td>\n",
       "      <td>194.0</td>\n",
       "      <td>485.0</td>\n",
       "      <td>171.0</td>\n",
       "      <td>6.0574</td>\n",
       "      <td>431000.0</td>\n",
       "      <td>&lt;1H OCEAN</td>\n",
       "    </tr>\n",
       "    <tr>\n",
       "      <th>830</th>\n",
       "      <td>-121.99</td>\n",
       "      <td>37.61</td>\n",
       "      <td>9.0</td>\n",
       "      <td>3666.0</td>\n",
       "      <td>711.0</td>\n",
       "      <td>2341.0</td>\n",
       "      <td>703.0</td>\n",
       "      <td>4.6458</td>\n",
       "      <td>217000.0</td>\n",
       "      <td>&lt;1H OCEAN</td>\n",
       "    </tr>\n",
       "    <tr>\n",
       "      <th>859</th>\n",
       "      <td>-121.97</td>\n",
       "      <td>37.57</td>\n",
       "      <td>21.0</td>\n",
       "      <td>4342.0</td>\n",
       "      <td>783.0</td>\n",
       "      <td>2172.0</td>\n",
       "      <td>789.0</td>\n",
       "      <td>4.6146</td>\n",
       "      <td>247600.0</td>\n",
       "      <td>&lt;1H OCEAN</td>\n",
       "    </tr>\n",
       "    <tr>\n",
       "      <th>860</th>\n",
       "      <td>-121.96</td>\n",
       "      <td>37.58</td>\n",
       "      <td>15.0</td>\n",
       "      <td>3575.0</td>\n",
       "      <td>597.0</td>\n",
       "      <td>1777.0</td>\n",
       "      <td>559.0</td>\n",
       "      <td>5.7192</td>\n",
       "      <td>283500.0</td>\n",
       "      <td>&lt;1H OCEAN</td>\n",
       "    </tr>\n",
       "    <tr>\n",
       "      <th>861</th>\n",
       "      <td>-121.98</td>\n",
       "      <td>37.58</td>\n",
       "      <td>20.0</td>\n",
       "      <td>4126.0</td>\n",
       "      <td>1031.0</td>\n",
       "      <td>2079.0</td>\n",
       "      <td>975.0</td>\n",
       "      <td>3.6832</td>\n",
       "      <td>216900.0</td>\n",
       "      <td>&lt;1H OCEAN</td>\n",
       "    </tr>\n",
       "    <tr>\n",
       "      <th>...</th>\n",
       "      <td>...</td>\n",
       "      <td>...</td>\n",
       "      <td>...</td>\n",
       "      <td>...</td>\n",
       "      <td>...</td>\n",
       "      <td>...</td>\n",
       "      <td>...</td>\n",
       "      <td>...</td>\n",
       "      <td>...</td>\n",
       "      <td>...</td>\n",
       "    </tr>\n",
       "    <tr>\n",
       "      <th>20635</th>\n",
       "      <td>-121.09</td>\n",
       "      <td>39.48</td>\n",
       "      <td>25.0</td>\n",
       "      <td>1665.0</td>\n",
       "      <td>374.0</td>\n",
       "      <td>845.0</td>\n",
       "      <td>330.0</td>\n",
       "      <td>1.5603</td>\n",
       "      <td>78100.0</td>\n",
       "      <td>INLAND</td>\n",
       "    </tr>\n",
       "    <tr>\n",
       "      <th>20636</th>\n",
       "      <td>-121.21</td>\n",
       "      <td>39.49</td>\n",
       "      <td>18.0</td>\n",
       "      <td>697.0</td>\n",
       "      <td>150.0</td>\n",
       "      <td>356.0</td>\n",
       "      <td>114.0</td>\n",
       "      <td>2.5568</td>\n",
       "      <td>77100.0</td>\n",
       "      <td>INLAND</td>\n",
       "    </tr>\n",
       "    <tr>\n",
       "      <th>20637</th>\n",
       "      <td>-121.22</td>\n",
       "      <td>39.43</td>\n",
       "      <td>17.0</td>\n",
       "      <td>2254.0</td>\n",
       "      <td>485.0</td>\n",
       "      <td>1007.0</td>\n",
       "      <td>433.0</td>\n",
       "      <td>1.7000</td>\n",
       "      <td>92300.0</td>\n",
       "      <td>INLAND</td>\n",
       "    </tr>\n",
       "    <tr>\n",
       "      <th>20638</th>\n",
       "      <td>-121.32</td>\n",
       "      <td>39.43</td>\n",
       "      <td>18.0</td>\n",
       "      <td>1860.0</td>\n",
       "      <td>409.0</td>\n",
       "      <td>741.0</td>\n",
       "      <td>349.0</td>\n",
       "      <td>1.8672</td>\n",
       "      <td>84700.0</td>\n",
       "      <td>INLAND</td>\n",
       "    </tr>\n",
       "    <tr>\n",
       "      <th>20639</th>\n",
       "      <td>-121.24</td>\n",
       "      <td>39.37</td>\n",
       "      <td>16.0</td>\n",
       "      <td>2785.0</td>\n",
       "      <td>616.0</td>\n",
       "      <td>1387.0</td>\n",
       "      <td>530.0</td>\n",
       "      <td>2.3886</td>\n",
       "      <td>89400.0</td>\n",
       "      <td>INLAND</td>\n",
       "    </tr>\n",
       "  </tbody>\n",
       "</table>\n",
       "<p>15687 rows × 10 columns</p>\n",
       "</div>"
      ],
      "text/plain": [
       "       longitude  latitude  housing_median_age  total_rooms  total_bedrooms  \\\n",
       "701      -121.97     37.64                32.0       1283.0           194.0   \n",
       "830      -121.99     37.61                 9.0       3666.0           711.0   \n",
       "859      -121.97     37.57                21.0       4342.0           783.0   \n",
       "860      -121.96     37.58                15.0       3575.0           597.0   \n",
       "861      -121.98     37.58                20.0       4126.0          1031.0   \n",
       "...          ...       ...                 ...          ...             ...   \n",
       "20635    -121.09     39.48                25.0       1665.0           374.0   \n",
       "20636    -121.21     39.49                18.0        697.0           150.0   \n",
       "20637    -121.22     39.43                17.0       2254.0           485.0   \n",
       "20638    -121.32     39.43                18.0       1860.0           409.0   \n",
       "20639    -121.24     39.37                16.0       2785.0           616.0   \n",
       "\n",
       "       population  households  median_income  median_house_value  \\\n",
       "701         485.0       171.0         6.0574            431000.0   \n",
       "830        2341.0       703.0         4.6458            217000.0   \n",
       "859        2172.0       789.0         4.6146            247600.0   \n",
       "860        1777.0       559.0         5.7192            283500.0   \n",
       "861        2079.0       975.0         3.6832            216900.0   \n",
       "...           ...         ...            ...                 ...   \n",
       "20635       845.0       330.0         1.5603             78100.0   \n",
       "20636       356.0       114.0         2.5568             77100.0   \n",
       "20637      1007.0       433.0         1.7000             92300.0   \n",
       "20638       741.0       349.0         1.8672             84700.0   \n",
       "20639      1387.0       530.0         2.3886             89400.0   \n",
       "\n",
       "      ocean_proximity  \n",
       "701         <1H OCEAN  \n",
       "830         <1H OCEAN  \n",
       "859         <1H OCEAN  \n",
       "860         <1H OCEAN  \n",
       "861         <1H OCEAN  \n",
       "...               ...  \n",
       "20635          INLAND  \n",
       "20636          INLAND  \n",
       "20637          INLAND  \n",
       "20638          INLAND  \n",
       "20639          INLAND  \n",
       "\n",
       "[15687 rows x 10 columns]"
      ]
     },
     "execution_count": 7,
     "metadata": {},
     "output_type": "execute_result"
    }
   ],
   "source": [
    "sub_df"
   ]
  },
  {
   "cell_type": "code",
   "execution_count": 8,
   "id": "e8c5dd96",
   "metadata": {},
   "outputs": [],
   "source": [
    "price_logs = np.log1p(sub_df.median_house_value)"
   ]
  },
  {
   "cell_type": "code",
   "execution_count": 9,
   "id": "2533450f",
   "metadata": {},
   "outputs": [
    {
     "data": {
      "text/plain": [
       "<Axes: xlabel='median_house_value', ylabel='Count'>"
      ]
     },
     "execution_count": 9,
     "metadata": {},
     "output_type": "execute_result"
    },
    {
     "data": {
      "image/png": "[encoded data removed]",
      "text/plain": [
       "<Figure size 640x480 with 1 Axes>"
      ]
     },
     "metadata": {},
     "output_type": "display_data"
    }
   ],
   "source": [
    "sns.histplot(price_logs, bins=50)"
   ]
  },
  {
   "cell_type": "markdown",
   "id": "c431e808",
   "metadata": {},
   "source": [
    "## Question 1"
   ]
  },
  {
   "cell_type": "code",
   "execution_count": 10,
   "id": "c016c128",
   "metadata": {},
   "outputs": [
    {
     "data": {
      "text/plain": [
       "longitude               0\n",
       "latitude                0\n",
       "housing_median_age      0\n",
       "total_rooms             0\n",
       "total_bedrooms        157\n",
       "population              0\n",
       "households              0\n",
       "median_income           0\n",
       "median_house_value      0\n",
       "ocean_proximity         0\n",
       "dtype: int64"
      ]
     },
     "execution_count": 10,
     "metadata": {},
     "output_type": "execute_result"
    }
   ],
   "source": [
    "sub_df.isna().sum()"
   ]
  },
  {
   "cell_type": "markdown",
   "id": "3594bfb6",
   "metadata": {},
   "source": [
    "total_bedrooms"
   ]
  },
  {
   "cell_type": "markdown",
   "id": "d75c029a",
   "metadata": {},
   "source": [
    "## Question 2"
   ]
  },
  {
   "cell_type": "code",
   "execution_count": 11,
   "id": "f68013a3",
   "metadata": {},
   "outputs": [
    {
     "data": {
      "text/html": [
       "<div>\n",
       "<style scoped>\n",
       "    .dataframe tbody tr th:only-of-type {\n",
       "        vertical-align: middle;\n",
       "    }\n",
       "\n",
       "    .dataframe tbody tr th {\n",
       "        vertical-align: top;\n",
       "    }\n",
       "\n",
       "    .dataframe thead th {\n",
       "        text-align: right;\n",
       "    }\n",
       "</style>\n",
       "<table border=\"1\" class=\"dataframe\">\n",
       "  <thead>\n",
       "    <tr style=\"text-align: right;\">\n",
       "      <th></th>\n",
       "      <th>longitude</th>\n",
       "      <th>latitude</th>\n",
       "      <th>housing_median_age</th>\n",
       "      <th>total_rooms</th>\n",
       "      <th>total_bedrooms</th>\n",
       "      <th>population</th>\n",
       "      <th>households</th>\n",
       "      <th>median_income</th>\n",
       "      <th>median_house_value</th>\n",
       "    </tr>\n",
       "  </thead>\n",
       "  <tbody>\n",
       "    <tr>\n",
       "      <th>count</th>\n",
       "      <td>15687.000000</td>\n",
       "      <td>15687.000000</td>\n",
       "      <td>15687.000000</td>\n",
       "      <td>15687.000000</td>\n",
       "      <td>15530.000000</td>\n",
       "      <td>15687.000000</td>\n",
       "      <td>15687.000000</td>\n",
       "      <td>15687.000000</td>\n",
       "      <td>15687.000000</td>\n",
       "    </tr>\n",
       "    <tr>\n",
       "      <th>mean</th>\n",
       "      <td>-119.217442</td>\n",
       "      <td>35.467307</td>\n",
       "      <td>27.188118</td>\n",
       "      <td>2665.677312</td>\n",
       "      <td>541.244688</td>\n",
       "      <td>1466.317205</td>\n",
       "      <td>500.916491</td>\n",
       "      <td>3.804019</td>\n",
       "      <td>191943.020017</td>\n",
       "    </tr>\n",
       "    <tr>\n",
       "      <th>std</th>\n",
       "      <td>1.780380</td>\n",
       "      <td>2.066387</td>\n",
       "      <td>12.057128</td>\n",
       "      <td>2257.672743</td>\n",
       "      <td>435.650018</td>\n",
       "      <td>1180.389908</td>\n",
       "      <td>392.759399</td>\n",
       "      <td>1.857158</td>\n",
       "      <td>108801.077620</td>\n",
       "    </tr>\n",
       "    <tr>\n",
       "      <th>min</th>\n",
       "      <td>-124.140000</td>\n",
       "      <td>32.610000</td>\n",
       "      <td>1.000000</td>\n",
       "      <td>2.000000</td>\n",
       "      <td>2.000000</td>\n",
       "      <td>3.000000</td>\n",
       "      <td>2.000000</td>\n",
       "      <td>0.499900</td>\n",
       "      <td>14999.000000</td>\n",
       "    </tr>\n",
       "    <tr>\n",
       "      <th>25%</th>\n",
       "      <td>-121.070000</td>\n",
       "      <td>33.940000</td>\n",
       "      <td>17.000000</td>\n",
       "      <td>1441.000000</td>\n",
       "      <td>295.000000</td>\n",
       "      <td>802.000000</td>\n",
       "      <td>278.000000</td>\n",
       "      <td>2.520800</td>\n",
       "      <td>111300.000000</td>\n",
       "    </tr>\n",
       "    <tr>\n",
       "      <th>50%</th>\n",
       "      <td>-118.370000</td>\n",
       "      <td>34.160000</td>\n",
       "      <td>27.000000</td>\n",
       "      <td>2118.000000</td>\n",
       "      <td>432.000000</td>\n",
       "      <td>1195.000000</td>\n",
       "      <td>406.000000</td>\n",
       "      <td>3.468800</td>\n",
       "      <td>166900.000000</td>\n",
       "    </tr>\n",
       "    <tr>\n",
       "      <th>75%</th>\n",
       "      <td>-117.990000</td>\n",
       "      <td>37.340000</td>\n",
       "      <td>36.000000</td>\n",
       "      <td>3172.000000</td>\n",
       "      <td>645.000000</td>\n",
       "      <td>1777.000000</td>\n",
       "      <td>602.000000</td>\n",
       "      <td>4.686200</td>\n",
       "      <td>241100.000000</td>\n",
       "    </tr>\n",
       "    <tr>\n",
       "      <th>max</th>\n",
       "      <td>-114.310000</td>\n",
       "      <td>41.950000</td>\n",
       "      <td>52.000000</td>\n",
       "      <td>39320.000000</td>\n",
       "      <td>6445.000000</td>\n",
       "      <td>35682.000000</td>\n",
       "      <td>6082.000000</td>\n",
       "      <td>15.000100</td>\n",
       "      <td>500001.000000</td>\n",
       "    </tr>\n",
       "  </tbody>\n",
       "</table>\n",
       "</div>"
      ],
      "text/plain": [
       "          longitude      latitude  housing_median_age   total_rooms  \\\n",
       "count  15687.000000  15687.000000        15687.000000  15687.000000   \n",
       "mean    -119.217442     35.467307           27.188118   2665.677312   \n",
       "std        1.780380      2.066387           12.057128   2257.672743   \n",
       "min     -124.140000     32.610000            1.000000      2.000000   \n",
       "25%     -121.070000     33.940000           17.000000   1441.000000   \n",
       "50%     -118.370000     34.160000           27.000000   2118.000000   \n",
       "75%     -117.990000     37.340000           36.000000   3172.000000   \n",
       "max     -114.310000     41.950000           52.000000  39320.000000   \n",
       "\n",
       "       total_bedrooms    population    households  median_income  \\\n",
       "count    15530.000000  15687.000000  15687.000000   15687.000000   \n",
       "mean       541.244688   1466.317205    500.916491       3.804019   \n",
       "std        435.650018   1180.389908    392.759399       1.857158   \n",
       "min          2.000000      3.000000      2.000000       0.499900   \n",
       "25%        295.000000    802.000000    278.000000       2.520800   \n",
       "50%        432.000000   1195.000000    406.000000       3.468800   \n",
       "75%        645.000000   1777.000000    602.000000       4.686200   \n",
       "max       6445.000000  35682.000000   6082.000000      15.000100   \n",
       "\n",
       "       median_house_value  \n",
       "count        15687.000000  \n",
       "mean        191943.020017  \n",
       "std         108801.077620  \n",
       "min          14999.000000  \n",
       "25%         111300.000000  \n",
       "50%         166900.000000  \n",
       "75%         241100.000000  \n",
       "max         500001.000000  "
      ]
     },
     "execution_count": 11,
     "metadata": {},
     "output_type": "execute_result"
    }
   ],
   "source": [
    "sub_df.describe()"
   ]
  },
  {
   "cell_type": "markdown",
   "id": "a8572500",
   "metadata": {},
   "source": [
    "1195"
   ]
  },
  {
   "cell_type": "markdown",
   "id": "4c2ec12e",
   "metadata": {},
   "source": [
    "## Prepare and split the dataset"
   ]
  },
  {
   "cell_type": "code",
   "execution_count": 12,
   "id": "bfad8afc",
   "metadata": {},
   "outputs": [],
   "source": [
    "n = len(sub_df)\n",
    "\n",
    "\n",
    "n_val = int(len(sub_df) * 0.2)\n",
    "n_test = int(len(sub_df) * 0.2)\n",
    "n_train = n - n_val - n_test"
   ]
  },
  {
   "cell_type": "code",
   "execution_count": 13,
   "id": "d0e723ad",
   "metadata": {},
   "outputs": [
    {
     "data": {
      "text/plain": [
       "(3137, 3137, 9413)"
      ]
     },
     "execution_count": 13,
     "metadata": {},
     "output_type": "execute_result"
    }
   ],
   "source": [
    "n_val, n_test, n_train"
   ]
  },
  {
   "cell_type": "code",
   "execution_count": 14,
   "id": "ccf29fa7",
   "metadata": {},
   "outputs": [],
   "source": [
    "df_train = sub_df.iloc[n_train:]\n",
    "df_val = sub_df.iloc[n_train:n_train+n_val]\n",
    "df_test = sub_df.iloc[n_train+n_val:]"
   ]
  },
  {
   "cell_type": "code",
   "execution_count": 15,
   "id": "4c13cc79",
   "metadata": {},
   "outputs": [],
   "source": [
    "idx = np.arange(n)"
   ]
  },
  {
   "cell_type": "code",
   "execution_count": 16,
   "id": "a360f616",
   "metadata": {},
   "outputs": [],
   "source": [
    "np.random.seed(42)\n",
    "np.random.shuffle(idx)"
   ]
  },
  {
   "cell_type": "code",
   "execution_count": 17,
   "id": "4a06474a",
   "metadata": {},
   "outputs": [],
   "source": [
    "df_train = sub_df.iloc[idx[n_train:]]\n",
    "df_val = sub_df.iloc[idx[n_train:n_train+n_val]]\n",
    "df_test = sub_df.iloc[idx[n_train+n_val:]]"
   ]
  },
  {
   "cell_type": "code",
   "execution_count": 18,
   "id": "7f825c61",
   "metadata": {},
   "outputs": [],
   "source": [
    "df_train = df_train.reset_index(drop=True)\n",
    "df_val = df_val.reset_index(drop=True)\n",
    "df_test = df_test.reset_index(drop=True)"
   ]
  },
  {
   "cell_type": "code",
   "execution_count": 19,
   "id": "634752bd",
   "metadata": {},
   "outputs": [],
   "source": [
    "y_train = np.log1p(df_train.median_house_value.values)\n",
    "y_val = np.log1p(df_val.median_house_value.values)\n",
    "y_test = np.log1p(df_test.median_house_value.values)"
   ]
  },
  {
   "cell_type": "code",
   "execution_count": 20,
   "id": "06b548a7",
   "metadata": {},
   "outputs": [],
   "source": [
    "del df_train['median_house_value']\n",
    "del df_val['median_house_value']\n",
    "del df_test['median_house_value']"
   ]
  },
  {
   "cell_type": "code",
   "execution_count": 21,
   "id": "ff0c7874",
   "metadata": {},
   "outputs": [
    {
     "data": {
      "text/plain": [
       "(6274, 3137, 3137)"
      ]
     },
     "execution_count": 21,
     "metadata": {},
     "output_type": "execute_result"
    }
   ],
   "source": [
    "len(df_train), len(df_val), len(df_test)"
   ]
  },
  {
   "cell_type": "code",
   "execution_count": 22,
   "id": "8aae27c6",
   "metadata": {},
   "outputs": [
    {
     "data": {
      "text/html": [
       "<div>\n",
       "<style scoped>\n",
       "    .dataframe tbody tr th:only-of-type {\n",
       "        vertical-align: middle;\n",
       "    }\n",
       "\n",
       "    .dataframe tbody tr th {\n",
       "        vertical-align: top;\n",
       "    }\n",
       "\n",
       "    .dataframe thead th {\n",
       "        text-align: right;\n",
       "    }\n",
       "</style>\n",
       "<table border=\"1\" class=\"dataframe\">\n",
       "  <thead>\n",
       "    <tr style=\"text-align: right;\">\n",
       "      <th></th>\n",
       "      <th>longitude</th>\n",
       "      <th>latitude</th>\n",
       "      <th>housing_median_age</th>\n",
       "      <th>total_rooms</th>\n",
       "      <th>total_bedrooms</th>\n",
       "      <th>population</th>\n",
       "      <th>households</th>\n",
       "      <th>median_income</th>\n",
       "      <th>ocean_proximity</th>\n",
       "    </tr>\n",
       "  </thead>\n",
       "  <tbody>\n",
       "    <tr>\n",
       "      <th>0</th>\n",
       "      <td>-120.09</td>\n",
       "      <td>37.02</td>\n",
       "      <td>9.0</td>\n",
       "      <td>1608.0</td>\n",
       "      <td>297.0</td>\n",
       "      <td>1057.0</td>\n",
       "      <td>295.0</td>\n",
       "      <td>3.7143</td>\n",
       "      <td>INLAND</td>\n",
       "    </tr>\n",
       "    <tr>\n",
       "      <th>1</th>\n",
       "      <td>-117.88</td>\n",
       "      <td>33.84</td>\n",
       "      <td>34.0</td>\n",
       "      <td>1410.0</td>\n",
       "      <td>214.0</td>\n",
       "      <td>837.0</td>\n",
       "      <td>240.0</td>\n",
       "      <td>6.1168</td>\n",
       "      <td>&lt;1H OCEAN</td>\n",
       "    </tr>\n",
       "    <tr>\n",
       "      <th>2</th>\n",
       "      <td>-118.21</td>\n",
       "      <td>33.95</td>\n",
       "      <td>32.0</td>\n",
       "      <td>1116.0</td>\n",
       "      <td>328.0</td>\n",
       "      <td>1265.0</td>\n",
       "      <td>302.0</td>\n",
       "      <td>2.2950</td>\n",
       "      <td>&lt;1H OCEAN</td>\n",
       "    </tr>\n",
       "    <tr>\n",
       "      <th>3</th>\n",
       "      <td>-119.32</td>\n",
       "      <td>36.32</td>\n",
       "      <td>29.0</td>\n",
       "      <td>2409.0</td>\n",
       "      <td>436.0</td>\n",
       "      <td>1142.0</td>\n",
       "      <td>440.0</td>\n",
       "      <td>3.6895</td>\n",
       "      <td>INLAND</td>\n",
       "    </tr>\n",
       "    <tr>\n",
       "      <th>4</th>\n",
       "      <td>-117.11</td>\n",
       "      <td>33.14</td>\n",
       "      <td>10.0</td>\n",
       "      <td>3208.0</td>\n",
       "      <td>636.0</td>\n",
       "      <td>1395.0</td>\n",
       "      <td>582.0</td>\n",
       "      <td>3.4455</td>\n",
       "      <td>&lt;1H OCEAN</td>\n",
       "    </tr>\n",
       "    <tr>\n",
       "      <th>...</th>\n",
       "      <td>...</td>\n",
       "      <td>...</td>\n",
       "      <td>...</td>\n",
       "      <td>...</td>\n",
       "      <td>...</td>\n",
       "      <td>...</td>\n",
       "      <td>...</td>\n",
       "      <td>...</td>\n",
       "      <td>...</td>\n",
       "    </tr>\n",
       "    <tr>\n",
       "      <th>6269</th>\n",
       "      <td>-118.14</td>\n",
       "      <td>34.15</td>\n",
       "      <td>41.0</td>\n",
       "      <td>1256.0</td>\n",
       "      <td>407.0</td>\n",
       "      <td>855.0</td>\n",
       "      <td>383.0</td>\n",
       "      <td>1.9923</td>\n",
       "      <td>&lt;1H OCEAN</td>\n",
       "    </tr>\n",
       "    <tr>\n",
       "      <th>6270</th>\n",
       "      <td>-121.86</td>\n",
       "      <td>37.40</td>\n",
       "      <td>19.0</td>\n",
       "      <td>4043.0</td>\n",
       "      <td>764.0</td>\n",
       "      <td>2196.0</td>\n",
       "      <td>708.0</td>\n",
       "      <td>6.1504</td>\n",
       "      <td>&lt;1H OCEAN</td>\n",
       "    </tr>\n",
       "    <tr>\n",
       "      <th>6271</th>\n",
       "      <td>-118.15</td>\n",
       "      <td>34.07</td>\n",
       "      <td>52.0</td>\n",
       "      <td>1983.0</td>\n",
       "      <td>344.0</td>\n",
       "      <td>887.0</td>\n",
       "      <td>331.0</td>\n",
       "      <td>3.2875</td>\n",
       "      <td>&lt;1H OCEAN</td>\n",
       "    </tr>\n",
       "    <tr>\n",
       "      <th>6272</th>\n",
       "      <td>-119.81</td>\n",
       "      <td>36.78</td>\n",
       "      <td>37.0</td>\n",
       "      <td>1965.0</td>\n",
       "      <td>364.0</td>\n",
       "      <td>796.0</td>\n",
       "      <td>335.0</td>\n",
       "      <td>3.6250</td>\n",
       "      <td>INLAND</td>\n",
       "    </tr>\n",
       "    <tr>\n",
       "      <th>6273</th>\n",
       "      <td>-118.35</td>\n",
       "      <td>34.00</td>\n",
       "      <td>46.0</td>\n",
       "      <td>3402.0</td>\n",
       "      <td>503.0</td>\n",
       "      <td>1389.0</td>\n",
       "      <td>504.0</td>\n",
       "      <td>5.3462</td>\n",
       "      <td>&lt;1H OCEAN</td>\n",
       "    </tr>\n",
       "  </tbody>\n",
       "</table>\n",
       "<p>6274 rows × 9 columns</p>\n",
       "</div>"
      ],
      "text/plain": [
       "      longitude  latitude  housing_median_age  total_rooms  total_bedrooms  \\\n",
       "0       -120.09     37.02                 9.0       1608.0           297.0   \n",
       "1       -117.88     33.84                34.0       1410.0           214.0   \n",
       "2       -118.21     33.95                32.0       1116.0           328.0   \n",
       "3       -119.32     36.32                29.0       2409.0           436.0   \n",
       "4       -117.11     33.14                10.0       3208.0           636.0   \n",
       "...         ...       ...                 ...          ...             ...   \n",
       "6269    -118.14     34.15                41.0       1256.0           407.0   \n",
       "6270    -121.86     37.40                19.0       4043.0           764.0   \n",
       "6271    -118.15     34.07                52.0       1983.0           344.0   \n",
       "6272    -119.81     36.78                37.0       1965.0           364.0   \n",
       "6273    -118.35     34.00                46.0       3402.0           503.0   \n",
       "\n",
       "      population  households  median_income ocean_proximity  \n",
       "0         1057.0       295.0         3.7143          INLAND  \n",
       "1          837.0       240.0         6.1168       <1H OCEAN  \n",
       "2         1265.0       302.0         2.2950       <1H OCEAN  \n",
       "3         1142.0       440.0         3.6895          INLAND  \n",
       "4         1395.0       582.0         3.4455       <1H OCEAN  \n",
       "...          ...         ...            ...             ...  \n",
       "6269       855.0       383.0         1.9923       <1H OCEAN  \n",
       "6270      2196.0       708.0         6.1504       <1H OCEAN  \n",
       "6271       887.0       331.0         3.2875       <1H OCEAN  \n",
       "6272       796.0       335.0         3.6250          INLAND  \n",
       "6273      1389.0       504.0         5.3462       <1H OCEAN  \n",
       "\n",
       "[6274 rows x 9 columns]"
      ]
     },
     "execution_count": 22,
     "metadata": {},
     "output_type": "execute_result"
    }
   ],
   "source": [
    "df_train"
   ]
  },
  {
   "cell_type": "markdown",
   "id": "e3c63215",
   "metadata": {},
   "source": [
    "## Question 3"
   ]
  },
  {
   "cell_type": "code",
   "execution_count": 23,
   "id": "ceb1df11",
   "metadata": {},
   "outputs": [],
   "source": [
    "def train_linear_regression(X,y):\n",
    "    ones = np.ones(X.shape[0])\n",
    "    X = np.column_stack([ones, X])\n",
    "    \n",
    "    XTX = X.T.dot(X)\n",
    "    XTX_inv = np.linalg.inv(XTX)\n",
    "    w_full = XTX_inv.dot(X.T).dot(y)\n",
    "    \n",
    "    return w_full[0], w_full[1:]"
   ]
  },
  {
   "cell_type": "code",
   "execution_count": 24,
   "id": "2217d1ad",
   "metadata": {},
   "outputs": [],
   "source": [
    "mean_value=df_train['total_bedrooms'].mean()"
   ]
  },
  {
   "cell_type": "code",
   "execution_count": 25,
   "id": "b945308f",
   "metadata": {},
   "outputs": [
    {
     "data": {
      "text/plain": [
       "539.2817581709869"
      ]
     },
     "execution_count": 25,
     "metadata": {},
     "output_type": "execute_result"
    }
   ],
   "source": [
    "mean_value"
   ]
  },
  {
   "cell_type": "code",
   "execution_count": 26,
   "id": "b69ac1d1",
   "metadata": {},
   "outputs": [
    {
     "data": {
      "text/html": [
       "<div>\n",
       "<style scoped>\n",
       "    .dataframe tbody tr th:only-of-type {\n",
       "        vertical-align: middle;\n",
       "    }\n",
       "\n",
       "    .dataframe tbody tr th {\n",
       "        vertical-align: top;\n",
       "    }\n",
       "\n",
       "    .dataframe thead th {\n",
       "        text-align: right;\n",
       "    }\n",
       "</style>\n",
       "<table border=\"1\" class=\"dataframe\">\n",
       "  <thead>\n",
       "    <tr style=\"text-align: right;\">\n",
       "      <th></th>\n",
       "      <th>longitude</th>\n",
       "      <th>latitude</th>\n",
       "      <th>housing_median_age</th>\n",
       "      <th>total_rooms</th>\n",
       "      <th>total_bedrooms</th>\n",
       "      <th>population</th>\n",
       "      <th>households</th>\n",
       "      <th>median_income</th>\n",
       "      <th>ocean_proximity</th>\n",
       "    </tr>\n",
       "  </thead>\n",
       "  <tbody>\n",
       "    <tr>\n",
       "      <th>0</th>\n",
       "      <td>-120.09</td>\n",
       "      <td>37.02</td>\n",
       "      <td>9.0</td>\n",
       "      <td>1608.0</td>\n",
       "      <td>297.0</td>\n",
       "      <td>1057.0</td>\n",
       "      <td>295.0</td>\n",
       "      <td>3.7143</td>\n",
       "      <td>INLAND</td>\n",
       "    </tr>\n",
       "    <tr>\n",
       "      <th>1</th>\n",
       "      <td>-117.88</td>\n",
       "      <td>33.84</td>\n",
       "      <td>34.0</td>\n",
       "      <td>1410.0</td>\n",
       "      <td>214.0</td>\n",
       "      <td>837.0</td>\n",
       "      <td>240.0</td>\n",
       "      <td>6.1168</td>\n",
       "      <td>&lt;1H OCEAN</td>\n",
       "    </tr>\n",
       "    <tr>\n",
       "      <th>2</th>\n",
       "      <td>-118.21</td>\n",
       "      <td>33.95</td>\n",
       "      <td>32.0</td>\n",
       "      <td>1116.0</td>\n",
       "      <td>328.0</td>\n",
       "      <td>1265.0</td>\n",
       "      <td>302.0</td>\n",
       "      <td>2.2950</td>\n",
       "      <td>&lt;1H OCEAN</td>\n",
       "    </tr>\n",
       "    <tr>\n",
       "      <th>3</th>\n",
       "      <td>-119.32</td>\n",
       "      <td>36.32</td>\n",
       "      <td>29.0</td>\n",
       "      <td>2409.0</td>\n",
       "      <td>436.0</td>\n",
       "      <td>1142.0</td>\n",
       "      <td>440.0</td>\n",
       "      <td>3.6895</td>\n",
       "      <td>INLAND</td>\n",
       "    </tr>\n",
       "    <tr>\n",
       "      <th>4</th>\n",
       "      <td>-117.11</td>\n",
       "      <td>33.14</td>\n",
       "      <td>10.0</td>\n",
       "      <td>3208.0</td>\n",
       "      <td>636.0</td>\n",
       "      <td>1395.0</td>\n",
       "      <td>582.0</td>\n",
       "      <td>3.4455</td>\n",
       "      <td>&lt;1H OCEAN</td>\n",
       "    </tr>\n",
       "    <tr>\n",
       "      <th>...</th>\n",
       "      <td>...</td>\n",
       "      <td>...</td>\n",
       "      <td>...</td>\n",
       "      <td>...</td>\n",
       "      <td>...</td>\n",
       "      <td>...</td>\n",
       "      <td>...</td>\n",
       "      <td>...</td>\n",
       "      <td>...</td>\n",
       "    </tr>\n",
       "    <tr>\n",
       "      <th>6269</th>\n",
       "      <td>-118.14</td>\n",
       "      <td>34.15</td>\n",
       "      <td>41.0</td>\n",
       "      <td>1256.0</td>\n",
       "      <td>407.0</td>\n",
       "      <td>855.0</td>\n",
       "      <td>383.0</td>\n",
       "      <td>1.9923</td>\n",
       "      <td>&lt;1H OCEAN</td>\n",
       "    </tr>\n",
       "    <tr>\n",
       "      <th>6270</th>\n",
       "      <td>-121.86</td>\n",
       "      <td>37.40</td>\n",
       "      <td>19.0</td>\n",
       "      <td>4043.0</td>\n",
       "      <td>764.0</td>\n",
       "      <td>2196.0</td>\n",
       "      <td>708.0</td>\n",
       "      <td>6.1504</td>\n",
       "      <td>&lt;1H OCEAN</td>\n",
       "    </tr>\n",
       "    <tr>\n",
       "      <th>6271</th>\n",
       "      <td>-118.15</td>\n",
       "      <td>34.07</td>\n",
       "      <td>52.0</td>\n",
       "      <td>1983.0</td>\n",
       "      <td>344.0</td>\n",
       "      <td>887.0</td>\n",
       "      <td>331.0</td>\n",
       "      <td>3.2875</td>\n",
       "      <td>&lt;1H OCEAN</td>\n",
       "    </tr>\n",
       "    <tr>\n",
       "      <th>6272</th>\n",
       "      <td>-119.81</td>\n",
       "      <td>36.78</td>\n",
       "      <td>37.0</td>\n",
       "      <td>1965.0</td>\n",
       "      <td>364.0</td>\n",
       "      <td>796.0</td>\n",
       "      <td>335.0</td>\n",
       "      <td>3.6250</td>\n",
       "      <td>INLAND</td>\n",
       "    </tr>\n",
       "    <tr>\n",
       "      <th>6273</th>\n",
       "      <td>-118.35</td>\n",
       "      <td>34.00</td>\n",
       "      <td>46.0</td>\n",
       "      <td>3402.0</td>\n",
       "      <td>503.0</td>\n",
       "      <td>1389.0</td>\n",
       "      <td>504.0</td>\n",
       "      <td>5.3462</td>\n",
       "      <td>&lt;1H OCEAN</td>\n",
       "    </tr>\n",
       "  </tbody>\n",
       "</table>\n",
       "<p>6274 rows × 9 columns</p>\n",
       "</div>"
      ],
      "text/plain": [
       "      longitude  latitude  housing_median_age  total_rooms  total_bedrooms  \\\n",
       "0       -120.09     37.02                 9.0       1608.0           297.0   \n",
       "1       -117.88     33.84                34.0       1410.0           214.0   \n",
       "2       -118.21     33.95                32.0       1116.0           328.0   \n",
       "3       -119.32     36.32                29.0       2409.0           436.0   \n",
       "4       -117.11     33.14                10.0       3208.0           636.0   \n",
       "...         ...       ...                 ...          ...             ...   \n",
       "6269    -118.14     34.15                41.0       1256.0           407.0   \n",
       "6270    -121.86     37.40                19.0       4043.0           764.0   \n",
       "6271    -118.15     34.07                52.0       1983.0           344.0   \n",
       "6272    -119.81     36.78                37.0       1965.0           364.0   \n",
       "6273    -118.35     34.00                46.0       3402.0           503.0   \n",
       "\n",
       "      population  households  median_income ocean_proximity  \n",
       "0         1057.0       295.0         3.7143          INLAND  \n",
       "1          837.0       240.0         6.1168       <1H OCEAN  \n",
       "2         1265.0       302.0         2.2950       <1H OCEAN  \n",
       "3         1142.0       440.0         3.6895          INLAND  \n",
       "4         1395.0       582.0         3.4455       <1H OCEAN  \n",
       "...          ...         ...            ...             ...  \n",
       "6269       855.0       383.0         1.9923       <1H OCEAN  \n",
       "6270      2196.0       708.0         6.1504       <1H OCEAN  \n",
       "6271       887.0       331.0         3.2875       <1H OCEAN  \n",
       "6272       796.0       335.0         3.6250          INLAND  \n",
       "6273      1389.0       504.0         5.3462       <1H OCEAN  \n",
       "\n",
       "[6274 rows x 9 columns]"
      ]
     },
     "execution_count": 26,
     "metadata": {},
     "output_type": "execute_result"
    }
   ],
   "source": [
    "df_train"
   ]
  },
  {
   "cell_type": "code",
   "execution_count": 27,
   "id": "769f1968",
   "metadata": {},
   "outputs": [
    {
     "data": {
      "text/plain": [
       "longitude              0\n",
       "latitude               0\n",
       "housing_median_age     0\n",
       "total_rooms            0\n",
       "total_bedrooms        63\n",
       "population             0\n",
       "households             0\n",
       "median_income          0\n",
       "ocean_proximity        0\n",
       "dtype: int64"
      ]
     },
     "execution_count": 27,
     "metadata": {},
     "output_type": "execute_result"
    }
   ],
   "source": [
    "df_train.isna().sum()"
   ]
  },
  {
   "cell_type": "code",
   "execution_count": 28,
   "id": "00bf6d27",
   "metadata": {},
   "outputs": [],
   "source": [
    "df_train_1 = df_train.copy()"
   ]
  },
  {
   "cell_type": "code",
   "execution_count": 29,
   "id": "16c84317",
   "metadata": {},
   "outputs": [],
   "source": [
    "df_train_2 = df_train.copy()"
   ]
  },
  {
   "cell_type": "code",
   "execution_count": 30,
   "id": "ff18cc40",
   "metadata": {},
   "outputs": [],
   "source": [
    "df_train_3 = df_train.copy()"
   ]
  },
  {
   "cell_type": "code",
   "execution_count": 31,
   "id": "31e9871b",
   "metadata": {},
   "outputs": [],
   "source": [
    "df_train_4 = df_train.copy()"
   ]
  },
  {
   "cell_type": "code",
   "execution_count": 32,
   "id": "5bc9d272",
   "metadata": {},
   "outputs": [],
   "source": [
    "df_train_5 = df_train.copy()"
   ]
  },
  {
   "cell_type": "code",
   "execution_count": 33,
   "id": "296acf18",
   "metadata": {},
   "outputs": [
    {
     "data": {
      "text/html": [
       "<div>\n",
       "<style scoped>\n",
       "    .dataframe tbody tr th:only-of-type {\n",
       "        vertical-align: middle;\n",
       "    }\n",
       "\n",
       "    .dataframe tbody tr th {\n",
       "        vertical-align: top;\n",
       "    }\n",
       "\n",
       "    .dataframe thead th {\n",
       "        text-align: right;\n",
       "    }\n",
       "</style>\n",
       "<table border=\"1\" class=\"dataframe\">\n",
       "  <thead>\n",
       "    <tr style=\"text-align: right;\">\n",
       "      <th></th>\n",
       "      <th>longitude</th>\n",
       "      <th>latitude</th>\n",
       "      <th>housing_median_age</th>\n",
       "      <th>total_rooms</th>\n",
       "      <th>total_bedrooms</th>\n",
       "      <th>population</th>\n",
       "      <th>households</th>\n",
       "      <th>median_income</th>\n",
       "    </tr>\n",
       "  </thead>\n",
       "  <tbody>\n",
       "    <tr>\n",
       "      <th>count</th>\n",
       "      <td>6274.000000</td>\n",
       "      <td>6274.000000</td>\n",
       "      <td>6274.000000</td>\n",
       "      <td>6274.000000</td>\n",
       "      <td>6211.000000</td>\n",
       "      <td>6274.000000</td>\n",
       "      <td>6274.000000</td>\n",
       "      <td>6274.000000</td>\n",
       "    </tr>\n",
       "    <tr>\n",
       "      <th>mean</th>\n",
       "      <td>-119.224216</td>\n",
       "      <td>35.486187</td>\n",
       "      <td>27.167357</td>\n",
       "      <td>2647.599617</td>\n",
       "      <td>539.281758</td>\n",
       "      <td>1450.478323</td>\n",
       "      <td>499.164170</td>\n",
       "      <td>3.800677</td>\n",
       "    </tr>\n",
       "    <tr>\n",
       "      <th>std</th>\n",
       "      <td>1.793579</td>\n",
       "      <td>2.081965</td>\n",
       "      <td>12.026104</td>\n",
       "      <td>2142.823976</td>\n",
       "      <td>423.562240</td>\n",
       "      <td>1083.450044</td>\n",
       "      <td>378.894887</td>\n",
       "      <td>1.861926</td>\n",
       "    </tr>\n",
       "    <tr>\n",
       "      <th>min</th>\n",
       "      <td>-124.140000</td>\n",
       "      <td>32.610000</td>\n",
       "      <td>1.000000</td>\n",
       "      <td>6.000000</td>\n",
       "      <td>2.000000</td>\n",
       "      <td>3.000000</td>\n",
       "      <td>2.000000</td>\n",
       "      <td>0.499900</td>\n",
       "    </tr>\n",
       "    <tr>\n",
       "      <th>25%</th>\n",
       "      <td>-121.110000</td>\n",
       "      <td>33.950000</td>\n",
       "      <td>17.000000</td>\n",
       "      <td>1447.250000</td>\n",
       "      <td>296.000000</td>\n",
       "      <td>805.000000</td>\n",
       "      <td>280.000000</td>\n",
       "      <td>2.504800</td>\n",
       "    </tr>\n",
       "    <tr>\n",
       "      <th>50%</th>\n",
       "      <td>-118.370000</td>\n",
       "      <td>34.160000</td>\n",
       "      <td>27.000000</td>\n",
       "      <td>2142.000000</td>\n",
       "      <td>433.000000</td>\n",
       "      <td>1201.000000</td>\n",
       "      <td>410.000000</td>\n",
       "      <td>3.482700</td>\n",
       "    </tr>\n",
       "    <tr>\n",
       "      <th>75%</th>\n",
       "      <td>-117.990000</td>\n",
       "      <td>37.350000</td>\n",
       "      <td>36.000000</td>\n",
       "      <td>3156.750000</td>\n",
       "      <td>644.000000</td>\n",
       "      <td>1768.750000</td>\n",
       "      <td>599.750000</td>\n",
       "      <td>4.705175</td>\n",
       "    </tr>\n",
       "    <tr>\n",
       "      <th>max</th>\n",
       "      <td>-114.550000</td>\n",
       "      <td>41.860000</td>\n",
       "      <td>52.000000</td>\n",
       "      <td>39320.000000</td>\n",
       "      <td>6210.000000</td>\n",
       "      <td>16305.000000</td>\n",
       "      <td>5358.000000</td>\n",
       "      <td>15.000100</td>\n",
       "    </tr>\n",
       "  </tbody>\n",
       "</table>\n",
       "</div>"
      ],
      "text/plain": [
       "         longitude     latitude  housing_median_age   total_rooms  \\\n",
       "count  6274.000000  6274.000000         6274.000000   6274.000000   \n",
       "mean   -119.224216    35.486187           27.167357   2647.599617   \n",
       "std       1.793579     2.081965           12.026104   2142.823976   \n",
       "min    -124.140000    32.610000            1.000000      6.000000   \n",
       "25%    -121.110000    33.950000           17.000000   1447.250000   \n",
       "50%    -118.370000    34.160000           27.000000   2142.000000   \n",
       "75%    -117.990000    37.350000           36.000000   3156.750000   \n",
       "max    -114.550000    41.860000           52.000000  39320.000000   \n",
       "\n",
       "       total_bedrooms    population   households  median_income  \n",
       "count     6211.000000   6274.000000  6274.000000    6274.000000  \n",
       "mean       539.281758   1450.478323   499.164170       3.800677  \n",
       "std        423.562240   1083.450044   378.894887       1.861926  \n",
       "min          2.000000      3.000000     2.000000       0.499900  \n",
       "25%        296.000000    805.000000   280.000000       2.504800  \n",
       "50%        433.000000   1201.000000   410.000000       3.482700  \n",
       "75%        644.000000   1768.750000   599.750000       4.705175  \n",
       "max       6210.000000  16305.000000  5358.000000      15.000100  "
      ]
     },
     "execution_count": 33,
     "metadata": {},
     "output_type": "execute_result"
    }
   ],
   "source": [
    "df_train_1.describe()"
   ]
  },
  {
   "cell_type": "code",
   "execution_count": 34,
   "id": "278a6648",
   "metadata": {},
   "outputs": [
    {
     "data": {
      "text/plain": [
       "longitude              0\n",
       "latitude               0\n",
       "housing_median_age     0\n",
       "total_rooms            0\n",
       "total_bedrooms        63\n",
       "population             0\n",
       "households             0\n",
       "median_income          0\n",
       "ocean_proximity        0\n",
       "dtype: int64"
      ]
     },
     "execution_count": 34,
     "metadata": {},
     "output_type": "execute_result"
    }
   ],
   "source": [
    "df_train_1.isna().sum()"
   ]
  },
  {
   "cell_type": "code",
   "execution_count": 35,
   "id": "36ff005a",
   "metadata": {},
   "outputs": [],
   "source": [
    "df_train_1['total_bedrooms'] = df_train_1['total_bedrooms'].fillna(0)"
   ]
  },
  {
   "cell_type": "code",
   "execution_count": 36,
   "id": "2bddf1c8",
   "metadata": {},
   "outputs": [
    {
     "data": {
      "text/html": [
       "<div>\n",
       "<style scoped>\n",
       "    .dataframe tbody tr th:only-of-type {\n",
       "        vertical-align: middle;\n",
       "    }\n",
       "\n",
       "    .dataframe tbody tr th {\n",
       "        vertical-align: top;\n",
       "    }\n",
       "\n",
       "    .dataframe thead th {\n",
       "        text-align: right;\n",
       "    }\n",
       "</style>\n",
       "<table border=\"1\" class=\"dataframe\">\n",
       "  <thead>\n",
       "    <tr style=\"text-align: right;\">\n",
       "      <th></th>\n",
       "      <th>longitude</th>\n",
       "      <th>latitude</th>\n",
       "      <th>housing_median_age</th>\n",
       "      <th>total_rooms</th>\n",
       "      <th>total_bedrooms</th>\n",
       "      <th>population</th>\n",
       "      <th>households</th>\n",
       "      <th>median_income</th>\n",
       "    </tr>\n",
       "  </thead>\n",
       "  <tbody>\n",
       "    <tr>\n",
       "      <th>count</th>\n",
       "      <td>6274.000000</td>\n",
       "      <td>6274.000000</td>\n",
       "      <td>6274.000000</td>\n",
       "      <td>6274.000000</td>\n",
       "      <td>6274.000000</td>\n",
       "      <td>6274.000000</td>\n",
       "      <td>6274.000000</td>\n",
       "      <td>6274.000000</td>\n",
       "    </tr>\n",
       "    <tr>\n",
       "      <th>mean</th>\n",
       "      <td>-119.224216</td>\n",
       "      <td>35.486187</td>\n",
       "      <td>27.167357</td>\n",
       "      <td>2647.599617</td>\n",
       "      <td>533.866592</td>\n",
       "      <td>1450.478323</td>\n",
       "      <td>499.164170</td>\n",
       "      <td>3.800677</td>\n",
       "    </tr>\n",
       "    <tr>\n",
       "      <th>std</th>\n",
       "      <td>1.793579</td>\n",
       "      <td>2.081965</td>\n",
       "      <td>12.026104</td>\n",
       "      <td>2142.823976</td>\n",
       "      <td>424.846604</td>\n",
       "      <td>1083.450044</td>\n",
       "      <td>378.894887</td>\n",
       "      <td>1.861926</td>\n",
       "    </tr>\n",
       "    <tr>\n",
       "      <th>min</th>\n",
       "      <td>-124.140000</td>\n",
       "      <td>32.610000</td>\n",
       "      <td>1.000000</td>\n",
       "      <td>6.000000</td>\n",
       "      <td>0.000000</td>\n",
       "      <td>3.000000</td>\n",
       "      <td>2.000000</td>\n",
       "      <td>0.499900</td>\n",
       "    </tr>\n",
       "    <tr>\n",
       "      <th>25%</th>\n",
       "      <td>-121.110000</td>\n",
       "      <td>33.950000</td>\n",
       "      <td>17.000000</td>\n",
       "      <td>1447.250000</td>\n",
       "      <td>292.000000</td>\n",
       "      <td>805.000000</td>\n",
       "      <td>280.000000</td>\n",
       "      <td>2.504800</td>\n",
       "    </tr>\n",
       "    <tr>\n",
       "      <th>50%</th>\n",
       "      <td>-118.370000</td>\n",
       "      <td>34.160000</td>\n",
       "      <td>27.000000</td>\n",
       "      <td>2142.000000</td>\n",
       "      <td>430.000000</td>\n",
       "      <td>1201.000000</td>\n",
       "      <td>410.000000</td>\n",
       "      <td>3.482700</td>\n",
       "    </tr>\n",
       "    <tr>\n",
       "      <th>75%</th>\n",
       "      <td>-117.990000</td>\n",
       "      <td>37.350000</td>\n",
       "      <td>36.000000</td>\n",
       "      <td>3156.750000</td>\n",
       "      <td>641.000000</td>\n",
       "      <td>1768.750000</td>\n",
       "      <td>599.750000</td>\n",
       "      <td>4.705175</td>\n",
       "    </tr>\n",
       "    <tr>\n",
       "      <th>max</th>\n",
       "      <td>-114.550000</td>\n",
       "      <td>41.860000</td>\n",
       "      <td>52.000000</td>\n",
       "      <td>39320.000000</td>\n",
       "      <td>6210.000000</td>\n",
       "      <td>16305.000000</td>\n",
       "      <td>5358.000000</td>\n",
       "      <td>15.000100</td>\n",
       "    </tr>\n",
       "  </tbody>\n",
       "</table>\n",
       "</div>"
      ],
      "text/plain": [
       "         longitude     latitude  housing_median_age   total_rooms  \\\n",
       "count  6274.000000  6274.000000         6274.000000   6274.000000   \n",
       "mean   -119.224216    35.486187           27.167357   2647.599617   \n",
       "std       1.793579     2.081965           12.026104   2142.823976   \n",
       "min    -124.140000    32.610000            1.000000      6.000000   \n",
       "25%    -121.110000    33.950000           17.000000   1447.250000   \n",
       "50%    -118.370000    34.160000           27.000000   2142.000000   \n",
       "75%    -117.990000    37.350000           36.000000   3156.750000   \n",
       "max    -114.550000    41.860000           52.000000  39320.000000   \n",
       "\n",
       "       total_bedrooms    population   households  median_income  \n",
       "count     6274.000000   6274.000000  6274.000000    6274.000000  \n",
       "mean       533.866592   1450.478323   499.164170       3.800677  \n",
       "std        424.846604   1083.450044   378.894887       1.861926  \n",
       "min          0.000000      3.000000     2.000000       0.499900  \n",
       "25%        292.000000    805.000000   280.000000       2.504800  \n",
       "50%        430.000000   1201.000000   410.000000       3.482700  \n",
       "75%        641.000000   1768.750000   599.750000       4.705175  \n",
       "max       6210.000000  16305.000000  5358.000000      15.000100  "
      ]
     },
     "execution_count": 36,
     "metadata": {},
     "output_type": "execute_result"
    }
   ],
   "source": [
    "df_train_1.describe()"
   ]
  },
  {
   "cell_type": "code",
   "execution_count": 37,
   "id": "bed61433",
   "metadata": {},
   "outputs": [
    {
     "data": {
      "text/plain": [
       "longitude             0\n",
       "latitude              0\n",
       "housing_median_age    0\n",
       "total_rooms           0\n",
       "total_bedrooms        0\n",
       "population            0\n",
       "households            0\n",
       "median_income         0\n",
       "ocean_proximity       0\n",
       "dtype: int64"
      ]
     },
     "execution_count": 37,
     "metadata": {},
     "output_type": "execute_result"
    }
   ],
   "source": [
    "df_train_1.isna().sum()"
   ]
  },
  {
   "cell_type": "code",
   "execution_count": 38,
   "id": "ffc40554",
   "metadata": {},
   "outputs": [
    {
     "data": {
      "text/plain": [
       "longitude              0\n",
       "latitude               0\n",
       "housing_median_age     0\n",
       "total_rooms            0\n",
       "total_bedrooms        63\n",
       "population             0\n",
       "households             0\n",
       "median_income          0\n",
       "ocean_proximity        0\n",
       "dtype: int64"
      ]
     },
     "execution_count": 38,
     "metadata": {},
     "output_type": "execute_result"
    }
   ],
   "source": [
    "df_train_2.isna().sum()"
   ]
  },
  {
   "cell_type": "code",
   "execution_count": 39,
   "id": "53211cc1",
   "metadata": {},
   "outputs": [],
   "source": [
    "mean_value=df_train_2['total_bedrooms'].mean()"
   ]
  },
  {
   "cell_type": "code",
   "execution_count": 40,
   "id": "494e0745",
   "metadata": {},
   "outputs": [],
   "source": [
    "df_train_2['total_bedrooms'].fillna(value=mean_value, inplace=True)"
   ]
  },
  {
   "cell_type": "code",
   "execution_count": 41,
   "id": "93146350",
   "metadata": {},
   "outputs": [
    {
     "data": {
      "text/html": [
       "<div>\n",
       "<style scoped>\n",
       "    .dataframe tbody tr th:only-of-type {\n",
       "        vertical-align: middle;\n",
       "    }\n",
       "\n",
       "    .dataframe tbody tr th {\n",
       "        vertical-align: top;\n",
       "    }\n",
       "\n",
       "    .dataframe thead th {\n",
       "        text-align: right;\n",
       "    }\n",
       "</style>\n",
       "<table border=\"1\" class=\"dataframe\">\n",
       "  <thead>\n",
       "    <tr style=\"text-align: right;\">\n",
       "      <th></th>\n",
       "      <th>longitude</th>\n",
       "      <th>latitude</th>\n",
       "      <th>housing_median_age</th>\n",
       "      <th>total_rooms</th>\n",
       "      <th>total_bedrooms</th>\n",
       "      <th>population</th>\n",
       "      <th>households</th>\n",
       "      <th>median_income</th>\n",
       "    </tr>\n",
       "  </thead>\n",
       "  <tbody>\n",
       "    <tr>\n",
       "      <th>count</th>\n",
       "      <td>6274.000000</td>\n",
       "      <td>6274.000000</td>\n",
       "      <td>6274.000000</td>\n",
       "      <td>6274.000000</td>\n",
       "      <td>6274.000000</td>\n",
       "      <td>6274.000000</td>\n",
       "      <td>6274.000000</td>\n",
       "      <td>6274.000000</td>\n",
       "    </tr>\n",
       "    <tr>\n",
       "      <th>mean</th>\n",
       "      <td>-119.224216</td>\n",
       "      <td>35.486187</td>\n",
       "      <td>27.167357</td>\n",
       "      <td>2647.599617</td>\n",
       "      <td>539.281758</td>\n",
       "      <td>1450.478323</td>\n",
       "      <td>499.164170</td>\n",
       "      <td>3.800677</td>\n",
       "    </tr>\n",
       "    <tr>\n",
       "      <th>std</th>\n",
       "      <td>1.793579</td>\n",
       "      <td>2.081965</td>\n",
       "      <td>12.026104</td>\n",
       "      <td>2142.823976</td>\n",
       "      <td>421.429947</td>\n",
       "      <td>1083.450044</td>\n",
       "      <td>378.894887</td>\n",
       "      <td>1.861926</td>\n",
       "    </tr>\n",
       "    <tr>\n",
       "      <th>min</th>\n",
       "      <td>-124.140000</td>\n",
       "      <td>32.610000</td>\n",
       "      <td>1.000000</td>\n",
       "      <td>6.000000</td>\n",
       "      <td>2.000000</td>\n",
       "      <td>3.000000</td>\n",
       "      <td>2.000000</td>\n",
       "      <td>0.499900</td>\n",
       "    </tr>\n",
       "    <tr>\n",
       "      <th>25%</th>\n",
       "      <td>-121.110000</td>\n",
       "      <td>33.950000</td>\n",
       "      <td>17.000000</td>\n",
       "      <td>1447.250000</td>\n",
       "      <td>298.000000</td>\n",
       "      <td>805.000000</td>\n",
       "      <td>280.000000</td>\n",
       "      <td>2.504800</td>\n",
       "    </tr>\n",
       "    <tr>\n",
       "      <th>50%</th>\n",
       "      <td>-118.370000</td>\n",
       "      <td>34.160000</td>\n",
       "      <td>27.000000</td>\n",
       "      <td>2142.000000</td>\n",
       "      <td>436.500000</td>\n",
       "      <td>1201.000000</td>\n",
       "      <td>410.000000</td>\n",
       "      <td>3.482700</td>\n",
       "    </tr>\n",
       "    <tr>\n",
       "      <th>75%</th>\n",
       "      <td>-117.990000</td>\n",
       "      <td>37.350000</td>\n",
       "      <td>36.000000</td>\n",
       "      <td>3156.750000</td>\n",
       "      <td>641.000000</td>\n",
       "      <td>1768.750000</td>\n",
       "      <td>599.750000</td>\n",
       "      <td>4.705175</td>\n",
       "    </tr>\n",
       "    <tr>\n",
       "      <th>max</th>\n",
       "      <td>-114.550000</td>\n",
       "      <td>41.860000</td>\n",
       "      <td>52.000000</td>\n",
       "      <td>39320.000000</td>\n",
       "      <td>6210.000000</td>\n",
       "      <td>16305.000000</td>\n",
       "      <td>5358.000000</td>\n",
       "      <td>15.000100</td>\n",
       "    </tr>\n",
       "  </tbody>\n",
       "</table>\n",
       "</div>"
      ],
      "text/plain": [
       "         longitude     latitude  housing_median_age   total_rooms  \\\n",
       "count  6274.000000  6274.000000         6274.000000   6274.000000   \n",
       "mean   -119.224216    35.486187           27.167357   2647.599617   \n",
       "std       1.793579     2.081965           12.026104   2142.823976   \n",
       "min    -124.140000    32.610000            1.000000      6.000000   \n",
       "25%    -121.110000    33.950000           17.000000   1447.250000   \n",
       "50%    -118.370000    34.160000           27.000000   2142.000000   \n",
       "75%    -117.990000    37.350000           36.000000   3156.750000   \n",
       "max    -114.550000    41.860000           52.000000  39320.000000   \n",
       "\n",
       "       total_bedrooms    population   households  median_income  \n",
       "count     6274.000000   6274.000000  6274.000000    6274.000000  \n",
       "mean       539.281758   1450.478323   499.164170       3.800677  \n",
       "std        421.429947   1083.450044   378.894887       1.861926  \n",
       "min          2.000000      3.000000     2.000000       0.499900  \n",
       "25%        298.000000    805.000000   280.000000       2.504800  \n",
       "50%        436.500000   1201.000000   410.000000       3.482700  \n",
       "75%        641.000000   1768.750000   599.750000       4.705175  \n",
       "max       6210.000000  16305.000000  5358.000000      15.000100  "
      ]
     },
     "execution_count": 41,
     "metadata": {},
     "output_type": "execute_result"
    }
   ],
   "source": [
    "df_train_2.describe()"
   ]
  },
  {
   "cell_type": "code",
   "execution_count": 42,
   "id": "1a4e3d57",
   "metadata": {},
   "outputs": [
    {
     "data": {
      "text/plain": [
       "longitude             float64\n",
       "latitude              float64\n",
       "housing_median_age    float64\n",
       "total_rooms           float64\n",
       "total_bedrooms        float64\n",
       "population            float64\n",
       "households            float64\n",
       "median_income         float64\n",
       "ocean_proximity        object\n",
       "dtype: object"
      ]
     },
     "execution_count": 42,
     "metadata": {},
     "output_type": "execute_result"
    }
   ],
   "source": [
    "df_train.dtypes"
   ]
  },
  {
   "cell_type": "code",
   "execution_count": 43,
   "id": "c9d45bf6",
   "metadata": {},
   "outputs": [
    {
     "data": {
      "text/plain": [
       "Index(['longitude', 'latitude', 'housing_median_age', 'total_rooms',\n",
       "       'total_bedrooms', 'population', 'households', 'median_income',\n",
       "       'ocean_proximity'],\n",
       "      dtype='object')"
      ]
     },
     "execution_count": 43,
     "metadata": {},
     "output_type": "execute_result"
    }
   ],
   "source": [
    "df_train.columns"
   ]
  },
  {
   "cell_type": "code",
   "execution_count": 44,
   "id": "b1b95b69",
   "metadata": {},
   "outputs": [
    {
     "data": {
      "text/html": [
       "<div>\n",
       "<style scoped>\n",
       "    .dataframe tbody tr th:only-of-type {\n",
       "        vertical-align: middle;\n",
       "    }\n",
       "\n",
       "    .dataframe tbody tr th {\n",
       "        vertical-align: top;\n",
       "    }\n",
       "\n",
       "    .dataframe thead th {\n",
       "        text-align: right;\n",
       "    }\n",
       "</style>\n",
       "<table border=\"1\" class=\"dataframe\">\n",
       "  <thead>\n",
       "    <tr style=\"text-align: right;\">\n",
       "      <th></th>\n",
       "      <th>housing_median_age</th>\n",
       "      <th>total_rooms</th>\n",
       "      <th>total_bedrooms</th>\n",
       "      <th>population</th>\n",
       "      <th>households</th>\n",
       "      <th>median_income</th>\n",
       "    </tr>\n",
       "  </thead>\n",
       "  <tbody>\n",
       "    <tr>\n",
       "      <th>0</th>\n",
       "      <td>9.0</td>\n",
       "      <td>1608.0</td>\n",
       "      <td>297.0</td>\n",
       "      <td>1057.0</td>\n",
       "      <td>295.0</td>\n",
       "      <td>3.7143</td>\n",
       "    </tr>\n",
       "    <tr>\n",
       "      <th>1</th>\n",
       "      <td>34.0</td>\n",
       "      <td>1410.0</td>\n",
       "      <td>214.0</td>\n",
       "      <td>837.0</td>\n",
       "      <td>240.0</td>\n",
       "      <td>6.1168</td>\n",
       "    </tr>\n",
       "    <tr>\n",
       "      <th>2</th>\n",
       "      <td>32.0</td>\n",
       "      <td>1116.0</td>\n",
       "      <td>328.0</td>\n",
       "      <td>1265.0</td>\n",
       "      <td>302.0</td>\n",
       "      <td>2.2950</td>\n",
       "    </tr>\n",
       "    <tr>\n",
       "      <th>3</th>\n",
       "      <td>29.0</td>\n",
       "      <td>2409.0</td>\n",
       "      <td>436.0</td>\n",
       "      <td>1142.0</td>\n",
       "      <td>440.0</td>\n",
       "      <td>3.6895</td>\n",
       "    </tr>\n",
       "    <tr>\n",
       "      <th>4</th>\n",
       "      <td>10.0</td>\n",
       "      <td>3208.0</td>\n",
       "      <td>636.0</td>\n",
       "      <td>1395.0</td>\n",
       "      <td>582.0</td>\n",
       "      <td>3.4455</td>\n",
       "    </tr>\n",
       "    <tr>\n",
       "      <th>...</th>\n",
       "      <td>...</td>\n",
       "      <td>...</td>\n",
       "      <td>...</td>\n",
       "      <td>...</td>\n",
       "      <td>...</td>\n",
       "      <td>...</td>\n",
       "    </tr>\n",
       "    <tr>\n",
       "      <th>6269</th>\n",
       "      <td>41.0</td>\n",
       "      <td>1256.0</td>\n",
       "      <td>407.0</td>\n",
       "      <td>855.0</td>\n",
       "      <td>383.0</td>\n",
       "      <td>1.9923</td>\n",
       "    </tr>\n",
       "    <tr>\n",
       "      <th>6270</th>\n",
       "      <td>19.0</td>\n",
       "      <td>4043.0</td>\n",
       "      <td>764.0</td>\n",
       "      <td>2196.0</td>\n",
       "      <td>708.0</td>\n",
       "      <td>6.1504</td>\n",
       "    </tr>\n",
       "    <tr>\n",
       "      <th>6271</th>\n",
       "      <td>52.0</td>\n",
       "      <td>1983.0</td>\n",
       "      <td>344.0</td>\n",
       "      <td>887.0</td>\n",
       "      <td>331.0</td>\n",
       "      <td>3.2875</td>\n",
       "    </tr>\n",
       "    <tr>\n",
       "      <th>6272</th>\n",
       "      <td>37.0</td>\n",
       "      <td>1965.0</td>\n",
       "      <td>364.0</td>\n",
       "      <td>796.0</td>\n",
       "      <td>335.0</td>\n",
       "      <td>3.6250</td>\n",
       "    </tr>\n",
       "    <tr>\n",
       "      <th>6273</th>\n",
       "      <td>46.0</td>\n",
       "      <td>3402.0</td>\n",
       "      <td>503.0</td>\n",
       "      <td>1389.0</td>\n",
       "      <td>504.0</td>\n",
       "      <td>5.3462</td>\n",
       "    </tr>\n",
       "  </tbody>\n",
       "</table>\n",
       "<p>6274 rows × 6 columns</p>\n",
       "</div>"
      ],
      "text/plain": [
       "      housing_median_age  total_rooms  total_bedrooms  population  households  \\\n",
       "0                    9.0       1608.0           297.0      1057.0       295.0   \n",
       "1                   34.0       1410.0           214.0       837.0       240.0   \n",
       "2                   32.0       1116.0           328.0      1265.0       302.0   \n",
       "3                   29.0       2409.0           436.0      1142.0       440.0   \n",
       "4                   10.0       3208.0           636.0      1395.0       582.0   \n",
       "...                  ...          ...             ...         ...         ...   \n",
       "6269                41.0       1256.0           407.0       855.0       383.0   \n",
       "6270                19.0       4043.0           764.0      2196.0       708.0   \n",
       "6271                52.0       1983.0           344.0       887.0       331.0   \n",
       "6272                37.0       1965.0           364.0       796.0       335.0   \n",
       "6273                46.0       3402.0           503.0      1389.0       504.0   \n",
       "\n",
       "      median_income  \n",
       "0            3.7143  \n",
       "1            6.1168  \n",
       "2            2.2950  \n",
       "3            3.6895  \n",
       "4            3.4455  \n",
       "...             ...  \n",
       "6269         1.9923  \n",
       "6270         6.1504  \n",
       "6271         3.2875  \n",
       "6272         3.6250  \n",
       "6273         5.3462  \n",
       "\n",
       "[6274 rows x 6 columns]"
      ]
     },
     "execution_count": 44,
     "metadata": {},
     "output_type": "execute_result"
    }
   ],
   "source": [
    "base = ['housing_median_age', 'total_rooms', 'total_bedrooms', 'population', 'households', 'median_income']\n",
    "\n",
    "df_train[base]"
   ]
  },
  {
   "cell_type": "code",
   "execution_count": 45,
   "id": "fbb653a5",
   "metadata": {},
   "outputs": [],
   "source": [
    "X_train_1 = df_train_1[base].values"
   ]
  },
  {
   "cell_type": "code",
   "execution_count": 46,
   "id": "65442343",
   "metadata": {},
   "outputs": [
    {
     "data": {
      "text/plain": [
       "array([[9.0000e+00, 1.6080e+03, 2.9700e+02, 1.0570e+03, 2.9500e+02,\n",
       "        3.7143e+00],\n",
       "       [3.4000e+01, 1.4100e+03, 2.1400e+02, 8.3700e+02, 2.4000e+02,\n",
       "        6.1168e+00],\n",
       "       [3.2000e+01, 1.1160e+03, 3.2800e+02, 1.2650e+03, 3.0200e+02,\n",
       "        2.2950e+00],\n",
       "       ...,\n",
       "       [5.2000e+01, 1.9830e+03, 3.4400e+02, 8.8700e+02, 3.3100e+02,\n",
       "        3.2875e+00],\n",
       "       [3.7000e+01, 1.9650e+03, 3.6400e+02, 7.9600e+02, 3.3500e+02,\n",
       "        3.6250e+00],\n",
       "       [4.6000e+01, 3.4020e+03, 5.0300e+02, 1.3890e+03, 5.0400e+02,\n",
       "        5.3462e+00]])"
      ]
     },
     "execution_count": 46,
     "metadata": {},
     "output_type": "execute_result"
    }
   ],
   "source": [
    "X_train_1"
   ]
  },
  {
   "cell_type": "code",
   "execution_count": 47,
   "id": "a3bedd6b",
   "metadata": {},
   "outputs": [
    {
     "data": {
      "text/plain": [
       "array([11.3095968 , 12.27326857, 11.95247633, ..., 12.3647886 ,\n",
       "       11.33141558, 12.50766132])"
      ]
     },
     "execution_count": 47,
     "metadata": {},
     "output_type": "execute_result"
    }
   ],
   "source": [
    "y_train"
   ]
  },
  {
   "cell_type": "code",
   "execution_count": 48,
   "id": "5b302f4b",
   "metadata": {},
   "outputs": [],
   "source": [
    "w0, w =train_linear_regression(X_train_1, y_train)"
   ]
  },
  {
   "cell_type": "code",
   "execution_count": 49,
   "id": "830723b9",
   "metadata": {},
   "outputs": [],
   "source": [
    "y_pred_1 = w0 + X_train_1.dot(w)"
   ]
  },
  {
   "cell_type": "code",
   "execution_count": 50,
   "id": "302a6a54",
   "metadata": {},
   "outputs": [
    {
     "data": {
      "text/plain": [
       "<Axes: ylabel='Count'>"
      ]
     },
     "execution_count": 50,
     "metadata": {},
     "output_type": "execute_result"
    },
    {
     "data": {
      "image/png": "[encoded data removed]",
      "text/plain": [
       "<Figure size 640x480 with 1 Axes>"
      ]
     },
     "metadata": {},
     "output_type": "display_data"
    }
   ],
   "source": [
    "sns.histplot(y_pred_1, color='red', alpha=0.5, bins=50)\n",
    "sns.histplot(y_train, color='blue', alpha=0.5, bins=50)"
   ]
  },
  {
   "cell_type": "markdown",
   "id": "d1430208",
   "metadata": {},
   "source": [
    "*******************************************************************************************************************************"
   ]
  },
  {
   "cell_type": "code",
   "execution_count": 51,
   "id": "12472346",
   "metadata": {},
   "outputs": [],
   "source": [
    "X_train_2 = df_train_2[base].values"
   ]
  },
  {
   "cell_type": "code",
   "execution_count": 52,
   "id": "c10cd8b9",
   "metadata": {},
   "outputs": [
    {
     "data": {
      "text/plain": [
       "array([[9.0000e+00, 1.6080e+03, 2.9700e+02, 1.0570e+03, 2.9500e+02,\n",
       "        3.7143e+00],\n",
       "       [3.4000e+01, 1.4100e+03, 2.1400e+02, 8.3700e+02, 2.4000e+02,\n",
       "        6.1168e+00],\n",
       "       [3.2000e+01, 1.1160e+03, 3.2800e+02, 1.2650e+03, 3.0200e+02,\n",
       "        2.2950e+00],\n",
       "       ...,\n",
       "       [5.2000e+01, 1.9830e+03, 3.4400e+02, 8.8700e+02, 3.3100e+02,\n",
       "        3.2875e+00],\n",
       "       [3.7000e+01, 1.9650e+03, 3.6400e+02, 7.9600e+02, 3.3500e+02,\n",
       "        3.6250e+00],\n",
       "       [4.6000e+01, 3.4020e+03, 5.0300e+02, 1.3890e+03, 5.0400e+02,\n",
       "        5.3462e+00]])"
      ]
     },
     "execution_count": 52,
     "metadata": {},
     "output_type": "execute_result"
    }
   ],
   "source": [
    "X_train_2"
   ]
  },
  {
   "cell_type": "code",
   "execution_count": 53,
   "id": "e2af945e",
   "metadata": {},
   "outputs": [
    {
     "data": {
      "text/plain": [
       "array([11.3095968 , 12.27326857, 11.95247633, ..., 12.3647886 ,\n",
       "       11.33141558, 12.50766132])"
      ]
     },
     "execution_count": 53,
     "metadata": {},
     "output_type": "execute_result"
    }
   ],
   "source": [
    "y_train"
   ]
  },
  {
   "cell_type": "code",
   "execution_count": 54,
   "id": "5255f8a9",
   "metadata": {},
   "outputs": [],
   "source": [
    "w0, w =train_linear_regression(X_train_2, y_train)"
   ]
  },
  {
   "cell_type": "code",
   "execution_count": 55,
   "id": "5c58f0b6",
   "metadata": {},
   "outputs": [],
   "source": [
    "y_pred_2 = w0 + X_train_2.dot(w)"
   ]
  },
  {
   "cell_type": "code",
   "execution_count": 56,
   "id": "ed6f887e",
   "metadata": {},
   "outputs": [
    {
     "data": {
      "text/plain": [
       "<Axes: ylabel='Count'>"
      ]
     },
     "execution_count": 56,
     "metadata": {},
     "output_type": "execute_result"
    },
    {
     "data": {
      "image/png": "[encoded data removed]",
      "text/plain": [
       "<Figure size 640x480 with 1 Axes>"
      ]
     },
     "metadata": {},
     "output_type": "display_data"
    }
   ],
   "source": [
    "sns.histplot(y_pred_2, color='red', alpha=0.5, bins=50)\n",
    "sns.histplot(y_train, color='blue', alpha=0.5, bins=50)"
   ]
  },
  {
   "cell_type": "markdown",
   "id": "4d1c4c46",
   "metadata": {},
   "source": [
    "## 2.9 RMSE"
   ]
  },
  {
   "cell_type": "code",
   "execution_count": 57,
   "id": "93d84d92",
   "metadata": {},
   "outputs": [],
   "source": [
    "def rmse(y, y_pred):\n",
    "    se = (y - y_pred) ** 2\n",
    "    mse = se.mean()\n",
    "    return np.sqrt(mse)"
   ]
  },
  {
   "cell_type": "code",
   "execution_count": 58,
   "id": "0eca7dd2",
   "metadata": {},
   "outputs": [
    {
     "data": {
      "text/plain": [
       "0.39168243891533133"
      ]
     },
     "execution_count": 58,
     "metadata": {},
     "output_type": "execute_result"
    }
   ],
   "source": [
    "rmse(y_train, y_pred_1)"
   ]
  },
  {
   "cell_type": "code",
   "execution_count": 59,
   "id": "0a68f0ff",
   "metadata": {},
   "outputs": [
    {
     "data": {
      "text/plain": [
       "0.39"
      ]
     },
     "execution_count": 59,
     "metadata": {},
     "output_type": "execute_result"
    }
   ],
   "source": [
    "round(rmse(y_train, y_pred_1),2)"
   ]
  },
  {
   "cell_type": "code",
   "execution_count": 60,
   "id": "065ae7f9",
   "metadata": {},
   "outputs": [
    {
     "data": {
      "text/plain": [
       "0.39137048130064234"
      ]
     },
     "execution_count": 60,
     "metadata": {},
     "output_type": "execute_result"
    }
   ],
   "source": [
    "rmse(y_train, y_pred_2)"
   ]
  },
  {
   "cell_type": "code",
   "execution_count": 61,
   "id": "f5ebe54c",
   "metadata": {},
   "outputs": [
    {
     "data": {
      "text/plain": [
       "0.39"
      ]
     },
     "execution_count": 61,
     "metadata": {},
     "output_type": "execute_result"
    }
   ],
   "source": [
    "round(rmse(y_train, y_pred_2),2)"
   ]
  },
  {
   "cell_type": "markdown",
   "id": "7675ca30",
   "metadata": {},
   "source": [
    "Both are equally good"
   ]
  },
  {
   "cell_type": "markdown",
   "id": "1c01806c",
   "metadata": {},
   "source": [
    "## Question 4"
   ]
  },
  {
   "cell_type": "code",
   "execution_count": 62,
   "id": "4a591a75",
   "metadata": {},
   "outputs": [
    {
     "data": {
      "text/html": [
       "<div>\n",
       "<style scoped>\n",
       "    .dataframe tbody tr th:only-of-type {\n",
       "        vertical-align: middle;\n",
       "    }\n",
       "\n",
       "    .dataframe tbody tr th {\n",
       "        vertical-align: top;\n",
       "    }\n",
       "\n",
       "    .dataframe thead th {\n",
       "        text-align: right;\n",
       "    }\n",
       "</style>\n",
       "<table border=\"1\" class=\"dataframe\">\n",
       "  <thead>\n",
       "    <tr style=\"text-align: right;\">\n",
       "      <th></th>\n",
       "      <th>longitude</th>\n",
       "      <th>latitude</th>\n",
       "      <th>housing_median_age</th>\n",
       "      <th>total_rooms</th>\n",
       "      <th>total_bedrooms</th>\n",
       "      <th>population</th>\n",
       "      <th>households</th>\n",
       "      <th>median_income</th>\n",
       "      <th>ocean_proximity</th>\n",
       "    </tr>\n",
       "  </thead>\n",
       "  <tbody>\n",
       "    <tr>\n",
       "      <th>0</th>\n",
       "      <td>-120.09</td>\n",
       "      <td>37.02</td>\n",
       "      <td>9.0</td>\n",
       "      <td>1608.0</td>\n",
       "      <td>297.0</td>\n",
       "      <td>1057.0</td>\n",
       "      <td>295.0</td>\n",
       "      <td>3.7143</td>\n",
       "      <td>INLAND</td>\n",
       "    </tr>\n",
       "    <tr>\n",
       "      <th>1</th>\n",
       "      <td>-117.88</td>\n",
       "      <td>33.84</td>\n",
       "      <td>34.0</td>\n",
       "      <td>1410.0</td>\n",
       "      <td>214.0</td>\n",
       "      <td>837.0</td>\n",
       "      <td>240.0</td>\n",
       "      <td>6.1168</td>\n",
       "      <td>&lt;1H OCEAN</td>\n",
       "    </tr>\n",
       "    <tr>\n",
       "      <th>2</th>\n",
       "      <td>-118.21</td>\n",
       "      <td>33.95</td>\n",
       "      <td>32.0</td>\n",
       "      <td>1116.0</td>\n",
       "      <td>328.0</td>\n",
       "      <td>1265.0</td>\n",
       "      <td>302.0</td>\n",
       "      <td>2.2950</td>\n",
       "      <td>&lt;1H OCEAN</td>\n",
       "    </tr>\n",
       "    <tr>\n",
       "      <th>3</th>\n",
       "      <td>-119.32</td>\n",
       "      <td>36.32</td>\n",
       "      <td>29.0</td>\n",
       "      <td>2409.0</td>\n",
       "      <td>436.0</td>\n",
       "      <td>1142.0</td>\n",
       "      <td>440.0</td>\n",
       "      <td>3.6895</td>\n",
       "      <td>INLAND</td>\n",
       "    </tr>\n",
       "    <tr>\n",
       "      <th>4</th>\n",
       "      <td>-117.11</td>\n",
       "      <td>33.14</td>\n",
       "      <td>10.0</td>\n",
       "      <td>3208.0</td>\n",
       "      <td>636.0</td>\n",
       "      <td>1395.0</td>\n",
       "      <td>582.0</td>\n",
       "      <td>3.4455</td>\n",
       "      <td>&lt;1H OCEAN</td>\n",
       "    </tr>\n",
       "    <tr>\n",
       "      <th>...</th>\n",
       "      <td>...</td>\n",
       "      <td>...</td>\n",
       "      <td>...</td>\n",
       "      <td>...</td>\n",
       "      <td>...</td>\n",
       "      <td>...</td>\n",
       "      <td>...</td>\n",
       "      <td>...</td>\n",
       "      <td>...</td>\n",
       "    </tr>\n",
       "    <tr>\n",
       "      <th>6269</th>\n",
       "      <td>-118.14</td>\n",
       "      <td>34.15</td>\n",
       "      <td>41.0</td>\n",
       "      <td>1256.0</td>\n",
       "      <td>407.0</td>\n",
       "      <td>855.0</td>\n",
       "      <td>383.0</td>\n",
       "      <td>1.9923</td>\n",
       "      <td>&lt;1H OCEAN</td>\n",
       "    </tr>\n",
       "    <tr>\n",
       "      <th>6270</th>\n",
       "      <td>-121.86</td>\n",
       "      <td>37.40</td>\n",
       "      <td>19.0</td>\n",
       "      <td>4043.0</td>\n",
       "      <td>764.0</td>\n",
       "      <td>2196.0</td>\n",
       "      <td>708.0</td>\n",
       "      <td>6.1504</td>\n",
       "      <td>&lt;1H OCEAN</td>\n",
       "    </tr>\n",
       "    <tr>\n",
       "      <th>6271</th>\n",
       "      <td>-118.15</td>\n",
       "      <td>34.07</td>\n",
       "      <td>52.0</td>\n",
       "      <td>1983.0</td>\n",
       "      <td>344.0</td>\n",
       "      <td>887.0</td>\n",
       "      <td>331.0</td>\n",
       "      <td>3.2875</td>\n",
       "      <td>&lt;1H OCEAN</td>\n",
       "    </tr>\n",
       "    <tr>\n",
       "      <th>6272</th>\n",
       "      <td>-119.81</td>\n",
       "      <td>36.78</td>\n",
       "      <td>37.0</td>\n",
       "      <td>1965.0</td>\n",
       "      <td>364.0</td>\n",
       "      <td>796.0</td>\n",
       "      <td>335.0</td>\n",
       "      <td>3.6250</td>\n",
       "      <td>INLAND</td>\n",
       "    </tr>\n",
       "    <tr>\n",
       "      <th>6273</th>\n",
       "      <td>-118.35</td>\n",
       "      <td>34.00</td>\n",
       "      <td>46.0</td>\n",
       "      <td>3402.0</td>\n",
       "      <td>503.0</td>\n",
       "      <td>1389.0</td>\n",
       "      <td>504.0</td>\n",
       "      <td>5.3462</td>\n",
       "      <td>&lt;1H OCEAN</td>\n",
       "    </tr>\n",
       "  </tbody>\n",
       "</table>\n",
       "<p>6274 rows × 9 columns</p>\n",
       "</div>"
      ],
      "text/plain": [
       "      longitude  latitude  housing_median_age  total_rooms  total_bedrooms  \\\n",
       "0       -120.09     37.02                 9.0       1608.0           297.0   \n",
       "1       -117.88     33.84                34.0       1410.0           214.0   \n",
       "2       -118.21     33.95                32.0       1116.0           328.0   \n",
       "3       -119.32     36.32                29.0       2409.0           436.0   \n",
       "4       -117.11     33.14                10.0       3208.0           636.0   \n",
       "...         ...       ...                 ...          ...             ...   \n",
       "6269    -118.14     34.15                41.0       1256.0           407.0   \n",
       "6270    -121.86     37.40                19.0       4043.0           764.0   \n",
       "6271    -118.15     34.07                52.0       1983.0           344.0   \n",
       "6272    -119.81     36.78                37.0       1965.0           364.0   \n",
       "6273    -118.35     34.00                46.0       3402.0           503.0   \n",
       "\n",
       "      population  households  median_income ocean_proximity  \n",
       "0         1057.0       295.0         3.7143          INLAND  \n",
       "1          837.0       240.0         6.1168       <1H OCEAN  \n",
       "2         1265.0       302.0         2.2950       <1H OCEAN  \n",
       "3         1142.0       440.0         3.6895          INLAND  \n",
       "4         1395.0       582.0         3.4455       <1H OCEAN  \n",
       "...          ...         ...            ...             ...  \n",
       "6269       855.0       383.0         1.9923       <1H OCEAN  \n",
       "6270      2196.0       708.0         6.1504       <1H OCEAN  \n",
       "6271       887.0       331.0         3.2875       <1H OCEAN  \n",
       "6272       796.0       335.0         3.6250          INLAND  \n",
       "6273      1389.0       504.0         5.3462       <1H OCEAN  \n",
       "\n",
       "[6274 rows x 9 columns]"
      ]
     },
     "execution_count": 62,
     "metadata": {},
     "output_type": "execute_result"
    }
   ],
   "source": [
    "df_train_3"
   ]
  },
  {
   "cell_type": "code",
   "execution_count": 63,
   "id": "fdeb7977",
   "metadata": {},
   "outputs": [
    {
     "data": {
      "text/html": [
       "<div>\n",
       "<style scoped>\n",
       "    .dataframe tbody tr th:only-of-type {\n",
       "        vertical-align: middle;\n",
       "    }\n",
       "\n",
       "    .dataframe tbody tr th {\n",
       "        vertical-align: top;\n",
       "    }\n",
       "\n",
       "    .dataframe thead th {\n",
       "        text-align: right;\n",
       "    }\n",
       "</style>\n",
       "<table border=\"1\" class=\"dataframe\">\n",
       "  <thead>\n",
       "    <tr style=\"text-align: right;\">\n",
       "      <th></th>\n",
       "      <th>longitude</th>\n",
       "      <th>latitude</th>\n",
       "      <th>housing_median_age</th>\n",
       "      <th>total_rooms</th>\n",
       "      <th>total_bedrooms</th>\n",
       "      <th>population</th>\n",
       "      <th>households</th>\n",
       "      <th>median_income</th>\n",
       "      <th>ocean_proximity</th>\n",
       "    </tr>\n",
       "  </thead>\n",
       "  <tbody>\n",
       "    <tr>\n",
       "      <th>0</th>\n",
       "      <td>-120.09</td>\n",
       "      <td>37.02</td>\n",
       "      <td>9.0</td>\n",
       "      <td>1608.0</td>\n",
       "      <td>297.0</td>\n",
       "      <td>1057.0</td>\n",
       "      <td>295.0</td>\n",
       "      <td>3.7143</td>\n",
       "      <td>INLAND</td>\n",
       "    </tr>\n",
       "    <tr>\n",
       "      <th>1</th>\n",
       "      <td>-117.88</td>\n",
       "      <td>33.84</td>\n",
       "      <td>34.0</td>\n",
       "      <td>1410.0</td>\n",
       "      <td>214.0</td>\n",
       "      <td>837.0</td>\n",
       "      <td>240.0</td>\n",
       "      <td>6.1168</td>\n",
       "      <td>&lt;1H OCEAN</td>\n",
       "    </tr>\n",
       "    <tr>\n",
       "      <th>2</th>\n",
       "      <td>-118.21</td>\n",
       "      <td>33.95</td>\n",
       "      <td>32.0</td>\n",
       "      <td>1116.0</td>\n",
       "      <td>328.0</td>\n",
       "      <td>1265.0</td>\n",
       "      <td>302.0</td>\n",
       "      <td>2.2950</td>\n",
       "      <td>&lt;1H OCEAN</td>\n",
       "    </tr>\n",
       "    <tr>\n",
       "      <th>3</th>\n",
       "      <td>-119.32</td>\n",
       "      <td>36.32</td>\n",
       "      <td>29.0</td>\n",
       "      <td>2409.0</td>\n",
       "      <td>436.0</td>\n",
       "      <td>1142.0</td>\n",
       "      <td>440.0</td>\n",
       "      <td>3.6895</td>\n",
       "      <td>INLAND</td>\n",
       "    </tr>\n",
       "    <tr>\n",
       "      <th>4</th>\n",
       "      <td>-117.11</td>\n",
       "      <td>33.14</td>\n",
       "      <td>10.0</td>\n",
       "      <td>3208.0</td>\n",
       "      <td>636.0</td>\n",
       "      <td>1395.0</td>\n",
       "      <td>582.0</td>\n",
       "      <td>3.4455</td>\n",
       "      <td>&lt;1H OCEAN</td>\n",
       "    </tr>\n",
       "    <tr>\n",
       "      <th>...</th>\n",
       "      <td>...</td>\n",
       "      <td>...</td>\n",
       "      <td>...</td>\n",
       "      <td>...</td>\n",
       "      <td>...</td>\n",
       "      <td>...</td>\n",
       "      <td>...</td>\n",
       "      <td>...</td>\n",
       "      <td>...</td>\n",
       "    </tr>\n",
       "    <tr>\n",
       "      <th>6269</th>\n",
       "      <td>-118.14</td>\n",
       "      <td>34.15</td>\n",
       "      <td>41.0</td>\n",
       "      <td>1256.0</td>\n",
       "      <td>407.0</td>\n",
       "      <td>855.0</td>\n",
       "      <td>383.0</td>\n",
       "      <td>1.9923</td>\n",
       "      <td>&lt;1H OCEAN</td>\n",
       "    </tr>\n",
       "    <tr>\n",
       "      <th>6270</th>\n",
       "      <td>-121.86</td>\n",
       "      <td>37.40</td>\n",
       "      <td>19.0</td>\n",
       "      <td>4043.0</td>\n",
       "      <td>764.0</td>\n",
       "      <td>2196.0</td>\n",
       "      <td>708.0</td>\n",
       "      <td>6.1504</td>\n",
       "      <td>&lt;1H OCEAN</td>\n",
       "    </tr>\n",
       "    <tr>\n",
       "      <th>6271</th>\n",
       "      <td>-118.15</td>\n",
       "      <td>34.07</td>\n",
       "      <td>52.0</td>\n",
       "      <td>1983.0</td>\n",
       "      <td>344.0</td>\n",
       "      <td>887.0</td>\n",
       "      <td>331.0</td>\n",
       "      <td>3.2875</td>\n",
       "      <td>&lt;1H OCEAN</td>\n",
       "    </tr>\n",
       "    <tr>\n",
       "      <th>6272</th>\n",
       "      <td>-119.81</td>\n",
       "      <td>36.78</td>\n",
       "      <td>37.0</td>\n",
       "      <td>1965.0</td>\n",
       "      <td>364.0</td>\n",
       "      <td>796.0</td>\n",
       "      <td>335.0</td>\n",
       "      <td>3.6250</td>\n",
       "      <td>INLAND</td>\n",
       "    </tr>\n",
       "    <tr>\n",
       "      <th>6273</th>\n",
       "      <td>-118.35</td>\n",
       "      <td>34.00</td>\n",
       "      <td>46.0</td>\n",
       "      <td>3402.0</td>\n",
       "      <td>503.0</td>\n",
       "      <td>1389.0</td>\n",
       "      <td>504.0</td>\n",
       "      <td>5.3462</td>\n",
       "      <td>&lt;1H OCEAN</td>\n",
       "    </tr>\n",
       "  </tbody>\n",
       "</table>\n",
       "<p>6274 rows × 9 columns</p>\n",
       "</div>"
      ],
      "text/plain": [
       "      longitude  latitude  housing_median_age  total_rooms  total_bedrooms  \\\n",
       "0       -120.09     37.02                 9.0       1608.0           297.0   \n",
       "1       -117.88     33.84                34.0       1410.0           214.0   \n",
       "2       -118.21     33.95                32.0       1116.0           328.0   \n",
       "3       -119.32     36.32                29.0       2409.0           436.0   \n",
       "4       -117.11     33.14                10.0       3208.0           636.0   \n",
       "...         ...       ...                 ...          ...             ...   \n",
       "6269    -118.14     34.15                41.0       1256.0           407.0   \n",
       "6270    -121.86     37.40                19.0       4043.0           764.0   \n",
       "6271    -118.15     34.07                52.0       1983.0           344.0   \n",
       "6272    -119.81     36.78                37.0       1965.0           364.0   \n",
       "6273    -118.35     34.00                46.0       3402.0           503.0   \n",
       "\n",
       "      population  households  median_income ocean_proximity  \n",
       "0         1057.0       295.0         3.7143          INLAND  \n",
       "1          837.0       240.0         6.1168       <1H OCEAN  \n",
       "2         1265.0       302.0         2.2950       <1H OCEAN  \n",
       "3         1142.0       440.0         3.6895          INLAND  \n",
       "4         1395.0       582.0         3.4455       <1H OCEAN  \n",
       "...          ...         ...            ...             ...  \n",
       "6269       855.0       383.0         1.9923       <1H OCEAN  \n",
       "6270      2196.0       708.0         6.1504       <1H OCEAN  \n",
       "6271       887.0       331.0         3.2875       <1H OCEAN  \n",
       "6272       796.0       335.0         3.6250          INLAND  \n",
       "6273      1389.0       504.0         5.3462       <1H OCEAN  \n",
       "\n",
       "[6274 rows x 9 columns]"
      ]
     },
     "execution_count": 63,
     "metadata": {},
     "output_type": "execute_result"
    }
   ],
   "source": [
    "df_train_3"
   ]
  },
  {
   "cell_type": "code",
   "execution_count": 64,
   "id": "ced25740",
   "metadata": {},
   "outputs": [],
   "source": [
    "for v in ['<1H OCEAN', 'INLAND']:\n",
    "    df_train_3['ocean_proximity_%s' % v] = (df_train_3.ocean_proximity == v).astype('int')"
   ]
  },
  {
   "cell_type": "code",
   "execution_count": 65,
   "id": "6ea5b82f",
   "metadata": {},
   "outputs": [
    {
     "data": {
      "text/html": [
       "<div>\n",
       "<style scoped>\n",
       "    .dataframe tbody tr th:only-of-type {\n",
       "        vertical-align: middle;\n",
       "    }\n",
       "\n",
       "    .dataframe tbody tr th {\n",
       "        vertical-align: top;\n",
       "    }\n",
       "\n",
       "    .dataframe thead th {\n",
       "        text-align: right;\n",
       "    }\n",
       "</style>\n",
       "<table border=\"1\" class=\"dataframe\">\n",
       "  <thead>\n",
       "    <tr style=\"text-align: right;\">\n",
       "      <th></th>\n",
       "      <th>longitude</th>\n",
       "      <th>latitude</th>\n",
       "      <th>housing_median_age</th>\n",
       "      <th>total_rooms</th>\n",
       "      <th>total_bedrooms</th>\n",
       "      <th>population</th>\n",
       "      <th>households</th>\n",
       "      <th>median_income</th>\n",
       "      <th>ocean_proximity</th>\n",
       "      <th>ocean_proximity_&lt;1H OCEAN</th>\n",
       "      <th>ocean_proximity_INLAND</th>\n",
       "    </tr>\n",
       "  </thead>\n",
       "  <tbody>\n",
       "    <tr>\n",
       "      <th>0</th>\n",
       "      <td>-120.09</td>\n",
       "      <td>37.02</td>\n",
       "      <td>9.0</td>\n",
       "      <td>1608.0</td>\n",
       "      <td>297.0</td>\n",
       "      <td>1057.0</td>\n",
       "      <td>295.0</td>\n",
       "      <td>3.7143</td>\n",
       "      <td>INLAND</td>\n",
       "      <td>0</td>\n",
       "      <td>1</td>\n",
       "    </tr>\n",
       "    <tr>\n",
       "      <th>1</th>\n",
       "      <td>-117.88</td>\n",
       "      <td>33.84</td>\n",
       "      <td>34.0</td>\n",
       "      <td>1410.0</td>\n",
       "      <td>214.0</td>\n",
       "      <td>837.0</td>\n",
       "      <td>240.0</td>\n",
       "      <td>6.1168</td>\n",
       "      <td>&lt;1H OCEAN</td>\n",
       "      <td>1</td>\n",
       "      <td>0</td>\n",
       "    </tr>\n",
       "    <tr>\n",
       "      <th>2</th>\n",
       "      <td>-118.21</td>\n",
       "      <td>33.95</td>\n",
       "      <td>32.0</td>\n",
       "      <td>1116.0</td>\n",
       "      <td>328.0</td>\n",
       "      <td>1265.0</td>\n",
       "      <td>302.0</td>\n",
       "      <td>2.2950</td>\n",
       "      <td>&lt;1H OCEAN</td>\n",
       "      <td>1</td>\n",
       "      <td>0</td>\n",
       "    </tr>\n",
       "    <tr>\n",
       "      <th>3</th>\n",
       "      <td>-119.32</td>\n",
       "      <td>36.32</td>\n",
       "      <td>29.0</td>\n",
       "      <td>2409.0</td>\n",
       "      <td>436.0</td>\n",
       "      <td>1142.0</td>\n",
       "      <td>440.0</td>\n",
       "      <td>3.6895</td>\n",
       "      <td>INLAND</td>\n",
       "      <td>0</td>\n",
       "      <td>1</td>\n",
       "    </tr>\n",
       "    <tr>\n",
       "      <th>4</th>\n",
       "      <td>-117.11</td>\n",
       "      <td>33.14</td>\n",
       "      <td>10.0</td>\n",
       "      <td>3208.0</td>\n",
       "      <td>636.0</td>\n",
       "      <td>1395.0</td>\n",
       "      <td>582.0</td>\n",
       "      <td>3.4455</td>\n",
       "      <td>&lt;1H OCEAN</td>\n",
       "      <td>1</td>\n",
       "      <td>0</td>\n",
       "    </tr>\n",
       "    <tr>\n",
       "      <th>...</th>\n",
       "      <td>...</td>\n",
       "      <td>...</td>\n",
       "      <td>...</td>\n",
       "      <td>...</td>\n",
       "      <td>...</td>\n",
       "      <td>...</td>\n",
       "      <td>...</td>\n",
       "      <td>...</td>\n",
       "      <td>...</td>\n",
       "      <td>...</td>\n",
       "      <td>...</td>\n",
       "    </tr>\n",
       "    <tr>\n",
       "      <th>6269</th>\n",
       "      <td>-118.14</td>\n",
       "      <td>34.15</td>\n",
       "      <td>41.0</td>\n",
       "      <td>1256.0</td>\n",
       "      <td>407.0</td>\n",
       "      <td>855.0</td>\n",
       "      <td>383.0</td>\n",
       "      <td>1.9923</td>\n",
       "      <td>&lt;1H OCEAN</td>\n",
       "      <td>1</td>\n",
       "      <td>0</td>\n",
       "    </tr>\n",
       "    <tr>\n",
       "      <th>6270</th>\n",
       "      <td>-121.86</td>\n",
       "      <td>37.40</td>\n",
       "      <td>19.0</td>\n",
       "      <td>4043.0</td>\n",
       "      <td>764.0</td>\n",
       "      <td>2196.0</td>\n",
       "      <td>708.0</td>\n",
       "      <td>6.1504</td>\n",
       "      <td>&lt;1H OCEAN</td>\n",
       "      <td>1</td>\n",
       "      <td>0</td>\n",
       "    </tr>\n",
       "    <tr>\n",
       "      <th>6271</th>\n",
       "      <td>-118.15</td>\n",
       "      <td>34.07</td>\n",
       "      <td>52.0</td>\n",
       "      <td>1983.0</td>\n",
       "      <td>344.0</td>\n",
       "      <td>887.0</td>\n",
       "      <td>331.0</td>\n",
       "      <td>3.2875</td>\n",
       "      <td>&lt;1H OCEAN</td>\n",
       "      <td>1</td>\n",
       "      <td>0</td>\n",
       "    </tr>\n",
       "    <tr>\n",
       "      <th>6272</th>\n",
       "      <td>-119.81</td>\n",
       "      <td>36.78</td>\n",
       "      <td>37.0</td>\n",
       "      <td>1965.0</td>\n",
       "      <td>364.0</td>\n",
       "      <td>796.0</td>\n",
       "      <td>335.0</td>\n",
       "      <td>3.6250</td>\n",
       "      <td>INLAND</td>\n",
       "      <td>0</td>\n",
       "      <td>1</td>\n",
       "    </tr>\n",
       "    <tr>\n",
       "      <th>6273</th>\n",
       "      <td>-118.35</td>\n",
       "      <td>34.00</td>\n",
       "      <td>46.0</td>\n",
       "      <td>3402.0</td>\n",
       "      <td>503.0</td>\n",
       "      <td>1389.0</td>\n",
       "      <td>504.0</td>\n",
       "      <td>5.3462</td>\n",
       "      <td>&lt;1H OCEAN</td>\n",
       "      <td>1</td>\n",
       "      <td>0</td>\n",
       "    </tr>\n",
       "  </tbody>\n",
       "</table>\n",
       "<p>6274 rows × 11 columns</p>\n",
       "</div>"
      ],
      "text/plain": [
       "      longitude  latitude  housing_median_age  total_rooms  total_bedrooms  \\\n",
       "0       -120.09     37.02                 9.0       1608.0           297.0   \n",
       "1       -117.88     33.84                34.0       1410.0           214.0   \n",
       "2       -118.21     33.95                32.0       1116.0           328.0   \n",
       "3       -119.32     36.32                29.0       2409.0           436.0   \n",
       "4       -117.11     33.14                10.0       3208.0           636.0   \n",
       "...         ...       ...                 ...          ...             ...   \n",
       "6269    -118.14     34.15                41.0       1256.0           407.0   \n",
       "6270    -121.86     37.40                19.0       4043.0           764.0   \n",
       "6271    -118.15     34.07                52.0       1983.0           344.0   \n",
       "6272    -119.81     36.78                37.0       1965.0           364.0   \n",
       "6273    -118.35     34.00                46.0       3402.0           503.0   \n",
       "\n",
       "      population  households  median_income ocean_proximity  \\\n",
       "0         1057.0       295.0         3.7143          INLAND   \n",
       "1          837.0       240.0         6.1168       <1H OCEAN   \n",
       "2         1265.0       302.0         2.2950       <1H OCEAN   \n",
       "3         1142.0       440.0         3.6895          INLAND   \n",
       "4         1395.0       582.0         3.4455       <1H OCEAN   \n",
       "...          ...         ...            ...             ...   \n",
       "6269       855.0       383.0         1.9923       <1H OCEAN   \n",
       "6270      2196.0       708.0         6.1504       <1H OCEAN   \n",
       "6271       887.0       331.0         3.2875       <1H OCEAN   \n",
       "6272       796.0       335.0         3.6250          INLAND   \n",
       "6273      1389.0       504.0         5.3462       <1H OCEAN   \n",
       "\n",
       "      ocean_proximity_<1H OCEAN  ocean_proximity_INLAND  \n",
       "0                             0                       1  \n",
       "1                             1                       0  \n",
       "2                             1                       0  \n",
       "3                             0                       1  \n",
       "4                             1                       0  \n",
       "...                         ...                     ...  \n",
       "6269                          1                       0  \n",
       "6270                          1                       0  \n",
       "6271                          1                       0  \n",
       "6272                          0                       1  \n",
       "6273                          1                       0  \n",
       "\n",
       "[6274 rows x 11 columns]"
      ]
     },
     "execution_count": 65,
     "metadata": {},
     "output_type": "execute_result"
    }
   ],
   "source": [
    "df_train_3"
   ]
  },
  {
   "cell_type": "code",
   "execution_count": 66,
   "id": "8ab08487",
   "metadata": {},
   "outputs": [
    {
     "data": {
      "text/plain": [
       "longitude                     0\n",
       "latitude                      0\n",
       "housing_median_age            0\n",
       "total_rooms                   0\n",
       "total_bedrooms               63\n",
       "population                    0\n",
       "households                    0\n",
       "median_income                 0\n",
       "ocean_proximity               0\n",
       "ocean_proximity_<1H OCEAN     0\n",
       "ocean_proximity_INLAND        0\n",
       "dtype: int64"
      ]
     },
     "execution_count": 66,
     "metadata": {},
     "output_type": "execute_result"
    }
   ],
   "source": [
    "df_train_3.isna().sum()"
   ]
  },
  {
   "cell_type": "code",
   "execution_count": 67,
   "id": "41b68ebe",
   "metadata": {},
   "outputs": [],
   "source": [
    "df_train_3['total_bedrooms'] = df_train_3['total_bedrooms'].fillna(0)"
   ]
  },
  {
   "cell_type": "code",
   "execution_count": 68,
   "id": "dee4c3ae",
   "metadata": {},
   "outputs": [],
   "source": [
    "def prepare_X(df):\n",
    "    df_num = df[base]\n",
    "    df_num = df_num.fillna(0)\n",
    "    X = df_num.values\n",
    "    return X"
   ]
  },
  {
   "cell_type": "code",
   "execution_count": 69,
   "id": "9526ccc5",
   "metadata": {},
   "outputs": [],
   "source": [
    "def train_linear_regression_reg(X, y, r):\n",
    "    ones = np.ones(X.shape[0])\n",
    "    X = np.column_stack([ones, X])\n",
    "    \n",
    "    XTX = X.T.dot(X)\n",
    "    XTX = XTX + r + np.eye(XTX.shape[0])\n",
    "    \n",
    "    XTX_inv = np.linalg.inv(XTX)\n",
    "    w_full = XTX_inv.dot(X.T).dot(y)\n",
    "    \n",
    "    return w_full[0], w_full[1:]"
   ]
  },
  {
   "cell_type": "code",
   "execution_count": 70,
   "id": "be6f4ea0",
   "metadata": {},
   "outputs": [
    {
     "data": {
      "text/plain": [
       "0.3981996136779408"
      ]
     },
     "execution_count": 70,
     "metadata": {},
     "output_type": "execute_result"
    }
   ],
   "source": [
    "X_train = prepare_X(df_train_3)\n",
    "w0, w = train_linear_regression_reg(X_train, y_train, r=0)\n",
    "\n",
    "X_val = prepare_X(df_val)\n",
    "y_pred = w0 + X_val.dot(w)\n",
    "rmse(y_val, y_pred)"
   ]
  },
  {
   "cell_type": "code",
   "execution_count": 71,
   "id": "756fbb82",
   "metadata": {},
   "outputs": [
    {
     "data": {
      "text/plain": [
       "0.3981996136779408"
      ]
     },
     "execution_count": 71,
     "metadata": {},
     "output_type": "execute_result"
    }
   ],
   "source": [
    "X_train = prepare_X(df_train_3)\n",
    "w0, w = train_linear_regression_reg(X_train, y_train, r=0)\n",
    "\n",
    "X_val = prepare_X(df_val)\n",
    "y_pred = w0 + X_val.dot(w)\n",
    "rmse(y_val, y_pred)"
   ]
  },
  {
   "cell_type": "code",
   "execution_count": 72,
   "id": "d552cc62",
   "metadata": {},
   "outputs": [
    {
     "data": {
      "text/plain": [
       "0.39819961384197844"
      ]
     },
     "execution_count": 72,
     "metadata": {},
     "output_type": "execute_result"
    }
   ],
   "source": [
    "X_train = prepare_X(df_train_3)\n",
    "w0, w = train_linear_regression_reg(X_train, y_train, r=0.000001)\n",
    "\n",
    "X_val = prepare_X(df_val)\n",
    "y_pred = w0 + X_val.dot(w)\n",
    "rmse(y_val, y_pred)"
   ]
  },
  {
   "cell_type": "code",
   "execution_count": 73,
   "id": "f5c1d9d5",
   "metadata": {},
   "outputs": [
    {
     "data": {
      "text/plain": [
       "0.3981996300851269"
      ]
     },
     "execution_count": 73,
     "metadata": {},
     "output_type": "execute_result"
    }
   ],
   "source": [
    "X_train = prepare_X(df_train_3)\n",
    "w0, w = train_linear_regression_reg(X_train, y_train, r=0.0001)\n",
    "\n",
    "X_val = prepare_X(df_val)\n",
    "y_pred = w0 + X_val.dot(w)\n",
    "rmse(y_val, y_pred)"
   ]
  },
  {
   "cell_type": "code",
   "execution_count": 74,
   "id": "9ec99c90",
   "metadata": {},
   "outputs": [
    {
     "data": {
      "text/plain": [
       "0.3981997777988063"
      ]
     },
     "execution_count": 74,
     "metadata": {},
     "output_type": "execute_result"
    }
   ],
   "source": [
    "X_train = prepare_X(df_train_3)\n",
    "w0, w = train_linear_regression_reg(X_train, y_train, r=0.001)\n",
    "\n",
    "X_val = prepare_X(df_val)\n",
    "y_pred = w0 + X_val.dot(w)\n",
    "rmse(y_val, y_pred)"
   ]
  },
  {
   "cell_type": "code",
   "execution_count": 75,
   "id": "b8dc964d",
   "metadata": {},
   "outputs": [
    {
     "data": {
      "text/plain": [
       "0.3982012597902025"
      ]
     },
     "execution_count": 75,
     "metadata": {},
     "output_type": "execute_result"
    }
   ],
   "source": [
    "X_train = prepare_X(df_train_3)\n",
    "w0, w = train_linear_regression_reg(X_train, y_train, r=0.01)\n",
    "\n",
    "X_val = prepare_X(df_val)\n",
    "y_pred = w0 + X_val.dot(w)\n",
    "rmse(y_val, y_pred)"
   ]
  },
  {
   "cell_type": "code",
   "execution_count": 76,
   "id": "d7bd2224",
   "metadata": {},
   "outputs": [
    {
     "data": {
      "text/plain": [
       "0.3982165648788889"
      ]
     },
     "execution_count": 76,
     "metadata": {},
     "output_type": "execute_result"
    }
   ],
   "source": [
    "X_train = prepare_X(df_train_3)\n",
    "w0, w = train_linear_regression_reg(X_train, y_train, r=0.1)\n",
    "\n",
    "X_val = prepare_X(df_val)\n",
    "y_pred = w0 + X_val.dot(w)\n",
    "rmse(y_val, y_pred)"
   ]
  },
  {
   "cell_type": "code",
   "execution_count": 77,
   "id": "4d51ad50",
   "metadata": {},
   "outputs": [
    {
     "data": {
      "text/plain": [
       "0.39841789140669126"
      ]
     },
     "execution_count": 77,
     "metadata": {},
     "output_type": "execute_result"
    }
   ],
   "source": [
    "X_train = prepare_X(df_train_3)\n",
    "w0, w = train_linear_regression_reg(X_train, y_train, r=1)\n",
    "\n",
    "X_val = prepare_X(df_val)\n",
    "y_pred = w0 + X_val.dot(w)\n",
    "rmse(y_val, y_pred)"
   ]
  },
  {
   "cell_type": "code",
   "execution_count": 78,
   "id": "9af64fa8",
   "metadata": {},
   "outputs": [
    {
     "data": {
      "text/plain": [
       "0.4003468061935758"
      ]
     },
     "execution_count": 78,
     "metadata": {},
     "output_type": "execute_result"
    }
   ],
   "source": [
    "X_train = prepare_X(df_train_3)\n",
    "w0, w = train_linear_regression_reg(X_train, y_train, r=5)\n",
    "\n",
    "X_val = prepare_X(df_val)\n",
    "y_pred = w0 + X_val.dot(w)\n",
    "rmse(y_val, y_pred)"
   ]
  },
  {
   "cell_type": "code",
   "execution_count": 79,
   "id": "d8c6dc8b",
   "metadata": {},
   "outputs": [
    {
     "data": {
      "text/plain": [
       "0.4049958063428564"
      ]
     },
     "execution_count": 79,
     "metadata": {},
     "output_type": "execute_result"
    }
   ],
   "source": [
    "X_train = prepare_X(df_train_3)\n",
    "w0, w = train_linear_regression_reg(X_train, y_train, r=10)\n",
    "\n",
    "X_val = prepare_X(df_val)\n",
    "y_pred = w0 + X_val.dot(w)\n",
    "rmse(y_val, y_pred)"
   ]
  },
  {
   "cell_type": "code",
   "execution_count": 80,
   "id": "533972ed",
   "metadata": {},
   "outputs": [
    {
     "data": {
      "text/plain": [
       "10.580674076365074"
      ]
     },
     "execution_count": 80,
     "metadata": {},
     "output_type": "execute_result"
    }
   ],
   "source": [
    "w0"
   ]
  },
  {
   "cell_type": "code",
   "execution_count": 81,
   "id": "64583596",
   "metadata": {},
   "outputs": [
    {
     "data": {
      "text/plain": [
       "array([ 1.09961693e-02, -1.18556523e-04,  4.12440942e-04, -8.96597209e-05,\n",
       "        7.09983019e-04,  2.56245167e-01])"
      ]
     },
     "execution_count": 81,
     "metadata": {},
     "output_type": "execute_result"
    }
   ],
   "source": [
    "w"
   ]
  },
  {
   "cell_type": "markdown",
   "id": "61c98239",
   "metadata": {},
   "source": [
    "0"
   ]
  },
  {
   "cell_type": "markdown",
   "id": "d5b08bc1",
   "metadata": {},
   "source": [
    "* How can I pass multiple values in a function parameter?\n",
    "https://stackoverflow.com/questions/35849871/how-can-i-pass-multiple-values-in-a-function-parameter\n",
    "\n",
    "* Save result of each iteration python\n",
    "https://stackoverflow.com/questions/45678946/save-result-of-each-iteration-python\n",
    "\n",
    "* Unpacking a list / tuple of pairs into two lists / tuples [duplicate]\n",
    "https://stackoverflow.com/questions/7558908/unpacking-a-list-tuple-of-pairs-into-two-lists-tuples"
   ]
  },
  {
   "cell_type": "code",
   "execution_count": 82,
   "id": "2c378167",
   "metadata": {},
   "outputs": [],
   "source": [
    "r = [0, 0.000001, 0.0001, 0.001, 0.01, 0.1, 1, 5, 10]"
   ]
  },
  {
   "cell_type": "code",
   "execution_count": 83,
   "id": "b664b931",
   "metadata": {},
   "outputs": [],
   "source": [
    "linear_reg_results = []"
   ]
  },
  {
   "cell_type": "code",
   "execution_count": 84,
   "id": "ba244c83",
   "metadata": {},
   "outputs": [],
   "source": [
    "for x in range(len(r)):\n",
    "    w1 =train_linear_regression_reg(X_train, y_train, r[x])\n",
    "    linear_reg_results.append(w1)"
   ]
  },
  {
   "cell_type": "code",
   "execution_count": 85,
   "id": "7ee5b043",
   "metadata": {},
   "outputs": [
    {
     "data": {
      "text/plain": [
       "[(10.84930344330411,\n",
       "  array([ 6.52678345e-03, -1.09313614e-04,  3.11623741e-04, -1.15184333e-04,\n",
       "          7.34284098e-04,  2.36323726e-01])),\n",
       " (10.849303415840513,\n",
       "  array([ 6.52678391e-03, -1.09313615e-04,  3.11623752e-04, -1.15184330e-04,\n",
       "          7.34284095e-04,  2.36323728e-01])),\n",
       " (10.849300696556497,\n",
       "  array([ 6.52682915e-03, -1.09313708e-04,  3.11624772e-04, -1.15184072e-04,\n",
       "          7.34283849e-04,  2.36323929e-01])),\n",
       " (10.849275975903652,\n",
       "  array([ 6.52724045e-03, -1.09314559e-04,  3.11634050e-04, -1.15181723e-04,\n",
       "          7.34281613e-04,  2.36325763e-01])),\n",
       " (10.849028774796,\n",
       "  array([ 6.53135332e-03, -1.09323065e-04,  3.11726825e-04, -1.15158234e-04,\n",
       "          7.34259250e-04,  2.36344095e-01])),\n",
       " (10.846557314371227,\n",
       "  array([ 6.57247284e-03, -1.09408102e-04,  3.12654370e-04, -1.14923401e-04,\n",
       "          7.34035674e-04,  2.36527378e-01])),\n",
       " (10.82189764890111,\n",
       "  array([ 6.98275397e-03, -1.10256583e-04,  3.21909197e-04, -1.12580290e-04,\n",
       "          7.31804881e-04,  2.38356128e-01])),\n",
       " (10.71349424476831,\n",
       "  array([ 8.78634174e-03, -1.13986491e-04,  3.62593237e-04, -1.02280021e-04,\n",
       "          7.21998360e-04,  2.46395279e-01])),\n",
       " (10.580674076365074,\n",
       "  array([ 1.09961693e-02, -1.18556523e-04,  4.12440942e-04, -8.96597209e-05,\n",
       "          7.09983019e-04,  2.56245167e-01]))]"
      ]
     },
     "execution_count": 85,
     "metadata": {},
     "output_type": "execute_result"
    }
   ],
   "source": [
    "linear_reg_results"
   ]
  },
  {
   "cell_type": "code",
   "execution_count": 86,
   "id": "d3a3f4a7",
   "metadata": {},
   "outputs": [],
   "source": [
    "list1, list2 = zip(*linear_reg_results)"
   ]
  },
  {
   "cell_type": "code",
   "execution_count": 87,
   "id": "5ea561f4",
   "metadata": {},
   "outputs": [
    {
     "data": {
      "text/plain": [
       "(10.84930344330411,\n",
       " 10.849303415840513,\n",
       " 10.849300696556497,\n",
       " 10.849275975903652,\n",
       " 10.849028774796,\n",
       " 10.846557314371227,\n",
       " 10.82189764890111,\n",
       " 10.71349424476831,\n",
       " 10.580674076365074)"
      ]
     },
     "execution_count": 87,
     "metadata": {},
     "output_type": "execute_result"
    }
   ],
   "source": [
    "list1"
   ]
  },
  {
   "cell_type": "code",
   "execution_count": 88,
   "id": "0f80ced7",
   "metadata": {},
   "outputs": [
    {
     "data": {
      "text/plain": [
       "(array([ 6.52678345e-03, -1.09313614e-04,  3.11623741e-04, -1.15184333e-04,\n",
       "         7.34284098e-04,  2.36323726e-01]),\n",
       " array([ 6.52678391e-03, -1.09313615e-04,  3.11623752e-04, -1.15184330e-04,\n",
       "         7.34284095e-04,  2.36323728e-01]),\n",
       " array([ 6.52682915e-03, -1.09313708e-04,  3.11624772e-04, -1.15184072e-04,\n",
       "         7.34283849e-04,  2.36323929e-01]),\n",
       " array([ 6.52724045e-03, -1.09314559e-04,  3.11634050e-04, -1.15181723e-04,\n",
       "         7.34281613e-04,  2.36325763e-01]),\n",
       " array([ 6.53135332e-03, -1.09323065e-04,  3.11726825e-04, -1.15158234e-04,\n",
       "         7.34259250e-04,  2.36344095e-01]),\n",
       " array([ 6.57247284e-03, -1.09408102e-04,  3.12654370e-04, -1.14923401e-04,\n",
       "         7.34035674e-04,  2.36527378e-01]),\n",
       " array([ 6.98275397e-03, -1.10256583e-04,  3.21909197e-04, -1.12580290e-04,\n",
       "         7.31804881e-04,  2.38356128e-01]),\n",
       " array([ 8.78634174e-03, -1.13986491e-04,  3.62593237e-04, -1.02280021e-04,\n",
       "         7.21998360e-04,  2.46395279e-01]),\n",
       " array([ 1.09961693e-02, -1.18556523e-04,  4.12440942e-04, -8.96597209e-05,\n",
       "         7.09983019e-04,  2.56245167e-01]))"
      ]
     },
     "execution_count": 88,
     "metadata": {},
     "output_type": "execute_result"
    }
   ],
   "source": [
    "list2"
   ]
  },
  {
   "cell_type": "code",
   "execution_count": null,
   "id": "1888d05f",
   "metadata": {},
   "outputs": [],
   "source": []
  },
  {
   "cell_type": "code",
   "execution_count": 89,
   "id": "356a3d6e",
   "metadata": {},
   "outputs": [
    {
     "name": "stdout",
     "output_type": "stream",
     "text": [
      "0.0 10.84930344330411 0.3981996136779408\n",
      "1e-05 10.849303168623809 0.3981996153186397\n",
      "0.0001 10.849300696556497 0.3981996300851269\n",
      "0.001 10.849275975903652 0.3981997777988063\n",
      "0.1 10.846557314371227 0.3982165648788889\n",
      "1 10.82189764890111 0.39841789140669126\n",
      "10 10.580674076365074 0.4049958063428564\n"
     ]
    }
   ],
   "source": [
    "for r in [0.0, 0.00001, 0.0001, 0.001, 0.1, 1, 10]:\n",
    "    X_train = prepare_X(df_train)\n",
    "    w0, w = train_linear_regression_reg(X_train, y_train, r=r)\n",
    "\n",
    "    X_val = prepare_X(df_val)\n",
    "    y_pred = w0 + X_val.dot(w)\n",
    "    score = rmse(y_val, y_pred)\n",
    "    \n",
    "    print(r, w0, score)"
   ]
  },
  {
   "cell_type": "code",
   "execution_count": null,
   "id": "b498d61a",
   "metadata": {},
   "outputs": [],
   "source": []
  },
  {
   "cell_type": "markdown",
   "id": "55c65ee7",
   "metadata": {},
   "source": [
    "## Question 5"
   ]
  },
  {
   "cell_type": "markdown",
   "id": "8d08683f",
   "metadata": {},
   "source": [
    "scikit learn train_test_split for loop\n",
    "https://stackoverflow.com/questions/63975504/scikit-learn-train-test-split-for-loop"
   ]
  },
  {
   "cell_type": "code",
   "execution_count": 90,
   "id": "00c8d571",
   "metadata": {},
   "outputs": [],
   "source": [
    "train_list= [[]]\n",
    "validate_list= [[]]\n",
    "test_list= [[]]\n",
    "\n",
    "for random_state in [0, 1, 2, 3, 4, 5, 6, 7, 8, 9]:\n",
    "    train, validate, test = np.split(sub_df.sample(frac=1, random_state=random_state),[int(.6*len(sub_df)), int(.8*len(sub_df))])\n",
    "    train_list.append([train])\n",
    "    validate_list.append([validate])\n",
    "    test_list.append([test])"
   ]
  },
  {
   "cell_type": "markdown",
   "id": "162e3acd",
   "metadata": {},
   "source": [
    "* Separate a list of data frames into multiple data frames\n",
    "https://stackoverflow.com/questions/70180608/separate-a-list-of-data-frames-into-multiple-data-frames"
   ]
  },
  {
   "cell_type": "code",
   "execution_count": 91,
   "id": "f597c79c",
   "metadata": {},
   "outputs": [],
   "source": [
    "for i in range(len(train_list)):\n",
    "    globals()[f\"train_{i}\"] = train_list[i]"
   ]
  },
  {
   "cell_type": "code",
   "execution_count": 121,
   "id": "5cb2f045",
   "metadata": {},
   "outputs": [
    {
     "data": {
      "text/plain": [
       "[       longitude  latitude  housing_median_age  total_rooms  total_bedrooms  \\\n",
       " 3502     -118.44     34.27                36.0       1111.0           275.0   \n",
       " 19432    -121.04     37.66                11.0       1658.0           301.0   \n",
       " 11254    -117.99     33.81                46.0         38.0             8.0   \n",
       " 3860     -118.43     34.16                34.0       2622.0           467.0   \n",
       " 5578     -118.30     33.85                38.0        123.0            36.0   \n",
       " ...          ...       ...                 ...          ...             ...   \n",
       " 16400    -121.23     37.99                38.0        523.0            80.0   \n",
       " 12161    -117.18     33.78                 7.0       1697.0           424.0   \n",
       " 4808     -118.34     34.03                49.0       1295.0           276.0   \n",
       " 19315    -122.91     38.43                19.0       1968.0           350.0   \n",
       " 5982     -117.75     34.10                21.0       8069.0          2174.0   \n",
       " \n",
       "        population  households  median_income  median_house_value  \\\n",
       " 3502       1333.0       266.0         3.5347            158100.0   \n",
       " 19432       913.0       298.0         4.1705            162800.0   \n",
       " 11254        66.0        14.0         4.1667            162500.0   \n",
       " 3860       1233.0       476.0         4.0474            379700.0   \n",
       " 5578        142.0        40.0         2.3942            200000.0   \n",
       " ...           ...         ...            ...                 ...   \n",
       " 16400       226.0        72.0         5.5693            153100.0   \n",
       " 12161       808.0       354.0         1.3417            169300.0   \n",
       " 4808        765.0       265.0         3.4306            130200.0   \n",
       " 19315       852.0       308.0         4.6705            269800.0   \n",
       " 5982       4369.0      2036.0         3.2756            156800.0   \n",
       " \n",
       "       ocean_proximity  \n",
       " 3502        <1H OCEAN  \n",
       " 19432          INLAND  \n",
       " 11254       <1H OCEAN  \n",
       " 3860        <1H OCEAN  \n",
       " 5578        <1H OCEAN  \n",
       " ...               ...  \n",
       " 16400          INLAND  \n",
       " 12161          INLAND  \n",
       " 4808        <1H OCEAN  \n",
       " 19315       <1H OCEAN  \n",
       " 5982           INLAND  \n",
       " \n",
       " [9412 rows x 10 columns]]"
      ]
     },
     "execution_count": 121,
     "metadata": {},
     "output_type": "execute_result"
    }
   ],
   "source": [
    "train_1"
   ]
  },
  {
   "cell_type": "code",
   "execution_count": null,
   "id": "f04f2518",
   "metadata": {},
   "outputs": [],
   "source": [
    "for r in [0.0, 0.00001, 0.0001, 0.001, 0.1, 1, 10]:\n",
    "    X_train = prepare_X(df_train)\n",
    "    w0, w = train_linear_regression_reg(X_train, y_train, r=r)\n",
    "\n",
    "    X_val = prepare_X(df_val)\n",
    "    y_pred = w0 + X_val.dot(w)\n",
    "    score = rmse(y_val, y_pred)\n",
    "    \n",
    "    print(r, w0, score)"
   ]
  },
  {
   "cell_type": "code",
   "execution_count": 92,
   "id": "649bebf0",
   "metadata": {},
   "outputs": [],
   "source": [
    "for i in range(len(validate_list)):\n",
    "    globals()[f\"validate_{i}\"] = validate_list[i]"
   ]
  },
  {
   "cell_type": "code",
   "execution_count": 93,
   "id": "adff26ff",
   "metadata": {},
   "outputs": [],
   "source": [
    "for i in range(len(test_list)):\n",
    "    globals()[f\"test_{i}\"] = test_list[i]"
   ]
  },
  {
   "cell_type": "code",
   "execution_count": null,
   "id": "29f59c71",
   "metadata": {},
   "outputs": [],
   "source": []
  },
  {
   "cell_type": "code",
   "execution_count": null,
   "id": "53ff2a5c",
   "metadata": {},
   "outputs": [],
   "source": []
  },
  {
   "cell_type": "code",
   "execution_count": null,
   "id": "ac6a6fbb",
   "metadata": {},
   "outputs": [],
   "source": []
  },
  {
   "cell_type": "code",
   "execution_count": null,
   "id": "44035524",
   "metadata": {},
   "outputs": [],
   "source": []
  },
  {
   "cell_type": "markdown",
   "id": "15535681",
   "metadata": {},
   "source": [
    "## Question 6"
   ]
  },
  {
   "cell_type": "code",
   "execution_count": 94,
   "id": "d8146b24",
   "metadata": {},
   "outputs": [],
   "source": [
    "train, validate, test = np.split(sub_df.sample(frac=1, random_state=9),[int(.6*len(sub_df)), int(.8*len(sub_df))])"
   ]
  },
  {
   "cell_type": "code",
   "execution_count": 95,
   "id": "8d367990",
   "metadata": {},
   "outputs": [],
   "source": [
    "frames = [train, validate]"
   ]
  },
  {
   "cell_type": "code",
   "execution_count": 96,
   "id": "66f8f16b",
   "metadata": {},
   "outputs": [],
   "source": [
    "train_val = pd.concat(frames)"
   ]
  },
  {
   "cell_type": "code",
   "execution_count": 97,
   "id": "f11b7d9b",
   "metadata": {},
   "outputs": [
    {
     "data": {
      "text/html": [
       "<div>\n",
       "<style scoped>\n",
       "    .dataframe tbody tr th:only-of-type {\n",
       "        vertical-align: middle;\n",
       "    }\n",
       "\n",
       "    .dataframe tbody tr th {\n",
       "        vertical-align: top;\n",
       "    }\n",
       "\n",
       "    .dataframe thead th {\n",
       "        text-align: right;\n",
       "    }\n",
       "</style>\n",
       "<table border=\"1\" class=\"dataframe\">\n",
       "  <thead>\n",
       "    <tr style=\"text-align: right;\">\n",
       "      <th></th>\n",
       "      <th>longitude</th>\n",
       "      <th>latitude</th>\n",
       "      <th>housing_median_age</th>\n",
       "      <th>total_rooms</th>\n",
       "      <th>total_bedrooms</th>\n",
       "      <th>population</th>\n",
       "      <th>households</th>\n",
       "      <th>median_income</th>\n",
       "      <th>median_house_value</th>\n",
       "      <th>ocean_proximity</th>\n",
       "    </tr>\n",
       "  </thead>\n",
       "  <tbody>\n",
       "    <tr>\n",
       "      <th>14737</th>\n",
       "      <td>-117.05</td>\n",
       "      <td>32.82</td>\n",
       "      <td>16.0</td>\n",
       "      <td>4046.0</td>\n",
       "      <td>731.0</td>\n",
       "      <td>1684.0</td>\n",
       "      <td>701.0</td>\n",
       "      <td>4.2312</td>\n",
       "      <td>197000.0</td>\n",
       "      <td>&lt;1H OCEAN</td>\n",
       "    </tr>\n",
       "    <tr>\n",
       "      <th>7094</th>\n",
       "      <td>-118.00</td>\n",
       "      <td>33.91</td>\n",
       "      <td>19.0</td>\n",
       "      <td>5166.0</td>\n",
       "      <td>770.0</td>\n",
       "      <td>2374.0</td>\n",
       "      <td>753.0</td>\n",
       "      <td>5.9790</td>\n",
       "      <td>285200.0</td>\n",
       "      <td>&lt;1H OCEAN</td>\n",
       "    </tr>\n",
       "    <tr>\n",
       "      <th>18022</th>\n",
       "      <td>-121.96</td>\n",
       "      <td>37.25</td>\n",
       "      <td>35.0</td>\n",
       "      <td>1018.0</td>\n",
       "      <td>169.0</td>\n",
       "      <td>484.0</td>\n",
       "      <td>174.0</td>\n",
       "      <td>6.1648</td>\n",
       "      <td>371900.0</td>\n",
       "      <td>&lt;1H OCEAN</td>\n",
       "    </tr>\n",
       "    <tr>\n",
       "      <th>17597</th>\n",
       "      <td>-121.89</td>\n",
       "      <td>37.30</td>\n",
       "      <td>47.0</td>\n",
       "      <td>1604.0</td>\n",
       "      <td>284.0</td>\n",
       "      <td>639.0</td>\n",
       "      <td>278.0</td>\n",
       "      <td>5.8415</td>\n",
       "      <td>283300.0</td>\n",
       "      <td>&lt;1H OCEAN</td>\n",
       "    </tr>\n",
       "    <tr>\n",
       "      <th>7704</th>\n",
       "      <td>-118.14</td>\n",
       "      <td>33.96</td>\n",
       "      <td>34.0</td>\n",
       "      <td>2744.0</td>\n",
       "      <td>541.0</td>\n",
       "      <td>1333.0</td>\n",
       "      <td>503.0</td>\n",
       "      <td>4.0536</td>\n",
       "      <td>277200.0</td>\n",
       "      <td>&lt;1H OCEAN</td>\n",
       "    </tr>\n",
       "    <tr>\n",
       "      <th>...</th>\n",
       "      <td>...</td>\n",
       "      <td>...</td>\n",
       "      <td>...</td>\n",
       "      <td>...</td>\n",
       "      <td>...</td>\n",
       "      <td>...</td>\n",
       "      <td>...</td>\n",
       "      <td>...</td>\n",
       "      <td>...</td>\n",
       "      <td>...</td>\n",
       "    </tr>\n",
       "    <tr>\n",
       "      <th>10555</th>\n",
       "      <td>-117.71</td>\n",
       "      <td>33.63</td>\n",
       "      <td>16.0</td>\n",
       "      <td>2497.0</td>\n",
       "      <td>500.0</td>\n",
       "      <td>1357.0</td>\n",
       "      <td>456.0</td>\n",
       "      <td>4.5909</td>\n",
       "      <td>241800.0</td>\n",
       "      <td>&lt;1H OCEAN</td>\n",
       "    </tr>\n",
       "    <tr>\n",
       "      <th>11806</th>\n",
       "      <td>-121.14</td>\n",
       "      <td>38.92</td>\n",
       "      <td>16.0</td>\n",
       "      <td>2069.0</td>\n",
       "      <td>312.0</td>\n",
       "      <td>889.0</td>\n",
       "      <td>299.0</td>\n",
       "      <td>4.6771</td>\n",
       "      <td>212000.0</td>\n",
       "      <td>INLAND</td>\n",
       "    </tr>\n",
       "    <tr>\n",
       "      <th>7497</th>\n",
       "      <td>-118.25</td>\n",
       "      <td>33.93</td>\n",
       "      <td>42.0</td>\n",
       "      <td>763.0</td>\n",
       "      <td>191.0</td>\n",
       "      <td>754.0</td>\n",
       "      <td>174.0</td>\n",
       "      <td>2.0486</td>\n",
       "      <td>101800.0</td>\n",
       "      <td>&lt;1H OCEAN</td>\n",
       "    </tr>\n",
       "    <tr>\n",
       "      <th>15103</th>\n",
       "      <td>-116.99</td>\n",
       "      <td>32.85</td>\n",
       "      <td>32.0</td>\n",
       "      <td>5211.0</td>\n",
       "      <td>949.0</td>\n",
       "      <td>3025.0</td>\n",
       "      <td>948.0</td>\n",
       "      <td>4.0931</td>\n",
       "      <td>134200.0</td>\n",
       "      <td>&lt;1H OCEAN</td>\n",
       "    </tr>\n",
       "    <tr>\n",
       "      <th>19216</th>\n",
       "      <td>-122.68</td>\n",
       "      <td>38.48</td>\n",
       "      <td>15.0</td>\n",
       "      <td>1575.0</td>\n",
       "      <td>262.0</td>\n",
       "      <td>716.0</td>\n",
       "      <td>259.0</td>\n",
       "      <td>5.3409</td>\n",
       "      <td>244600.0</td>\n",
       "      <td>&lt;1H OCEAN</td>\n",
       "    </tr>\n",
       "  </tbody>\n",
       "</table>\n",
       "<p>12549 rows × 10 columns</p>\n",
       "</div>"
      ],
      "text/plain": [
       "       longitude  latitude  housing_median_age  total_rooms  total_bedrooms  \\\n",
       "14737    -117.05     32.82                16.0       4046.0           731.0   \n",
       "7094     -118.00     33.91                19.0       5166.0           770.0   \n",
       "18022    -121.96     37.25                35.0       1018.0           169.0   \n",
       "17597    -121.89     37.30                47.0       1604.0           284.0   \n",
       "7704     -118.14     33.96                34.0       2744.0           541.0   \n",
       "...          ...       ...                 ...          ...             ...   \n",
       "10555    -117.71     33.63                16.0       2497.0           500.0   \n",
       "11806    -121.14     38.92                16.0       2069.0           312.0   \n",
       "7497     -118.25     33.93                42.0        763.0           191.0   \n",
       "15103    -116.99     32.85                32.0       5211.0           949.0   \n",
       "19216    -122.68     38.48                15.0       1575.0           262.0   \n",
       "\n",
       "       population  households  median_income  median_house_value  \\\n",
       "14737      1684.0       701.0         4.2312            197000.0   \n",
       "7094       2374.0       753.0         5.9790            285200.0   \n",
       "18022       484.0       174.0         6.1648            371900.0   \n",
       "17597       639.0       278.0         5.8415            283300.0   \n",
       "7704       1333.0       503.0         4.0536            277200.0   \n",
       "...           ...         ...            ...                 ...   \n",
       "10555      1357.0       456.0         4.5909            241800.0   \n",
       "11806       889.0       299.0         4.6771            212000.0   \n",
       "7497        754.0       174.0         2.0486            101800.0   \n",
       "15103      3025.0       948.0         4.0931            134200.0   \n",
       "19216       716.0       259.0         5.3409            244600.0   \n",
       "\n",
       "      ocean_proximity  \n",
       "14737       <1H OCEAN  \n",
       "7094        <1H OCEAN  \n",
       "18022       <1H OCEAN  \n",
       "17597       <1H OCEAN  \n",
       "7704        <1H OCEAN  \n",
       "...               ...  \n",
       "10555       <1H OCEAN  \n",
       "11806          INLAND  \n",
       "7497        <1H OCEAN  \n",
       "15103       <1H OCEAN  \n",
       "19216       <1H OCEAN  \n",
       "\n",
       "[12549 rows x 10 columns]"
      ]
     },
     "execution_count": 97,
     "metadata": {},
     "output_type": "execute_result"
    }
   ],
   "source": [
    "train_val"
   ]
  },
  {
   "cell_type": "code",
   "execution_count": 98,
   "id": "96cb6c1d",
   "metadata": {},
   "outputs": [
    {
     "data": {
      "text/html": [
       "<div>\n",
       "<style scoped>\n",
       "    .dataframe tbody tr th:only-of-type {\n",
       "        vertical-align: middle;\n",
       "    }\n",
       "\n",
       "    .dataframe tbody tr th {\n",
       "        vertical-align: top;\n",
       "    }\n",
       "\n",
       "    .dataframe thead th {\n",
       "        text-align: right;\n",
       "    }\n",
       "</style>\n",
       "<table border=\"1\" class=\"dataframe\">\n",
       "  <thead>\n",
       "    <tr style=\"text-align: right;\">\n",
       "      <th></th>\n",
       "      <th>longitude</th>\n",
       "      <th>latitude</th>\n",
       "      <th>housing_median_age</th>\n",
       "      <th>total_rooms</th>\n",
       "      <th>total_bedrooms</th>\n",
       "      <th>population</th>\n",
       "      <th>households</th>\n",
       "      <th>median_income</th>\n",
       "      <th>median_house_value</th>\n",
       "      <th>ocean_proximity</th>\n",
       "    </tr>\n",
       "  </thead>\n",
       "  <tbody>\n",
       "    <tr>\n",
       "      <th>17992</th>\n",
       "      <td>-121.95</td>\n",
       "      <td>37.29</td>\n",
       "      <td>30.0</td>\n",
       "      <td>3734.0</td>\n",
       "      <td>813.0</td>\n",
       "      <td>1834.0</td>\n",
       "      <td>824.0</td>\n",
       "      <td>3.4505</td>\n",
       "      <td>260000.0</td>\n",
       "      <td>&lt;1H OCEAN</td>\n",
       "    </tr>\n",
       "    <tr>\n",
       "      <th>6929</th>\n",
       "      <td>-118.08</td>\n",
       "      <td>34.01</td>\n",
       "      <td>34.0</td>\n",
       "      <td>1914.0</td>\n",
       "      <td>549.0</td>\n",
       "      <td>2122.0</td>\n",
       "      <td>529.0</td>\n",
       "      <td>2.5969</td>\n",
       "      <td>150200.0</td>\n",
       "      <td>&lt;1H OCEAN</td>\n",
       "    </tr>\n",
       "    <tr>\n",
       "      <th>16483</th>\n",
       "      <td>-121.14</td>\n",
       "      <td>38.16</td>\n",
       "      <td>14.0</td>\n",
       "      <td>2591.0</td>\n",
       "      <td>497.0</td>\n",
       "      <td>1371.0</td>\n",
       "      <td>479.0</td>\n",
       "      <td>3.5774</td>\n",
       "      <td>113900.0</td>\n",
       "      <td>INLAND</td>\n",
       "    </tr>\n",
       "    <tr>\n",
       "      <th>12645</th>\n",
       "      <td>-121.47</td>\n",
       "      <td>38.52</td>\n",
       "      <td>26.0</td>\n",
       "      <td>2177.0</td>\n",
       "      <td>638.0</td>\n",
       "      <td>1971.0</td>\n",
       "      <td>560.0</td>\n",
       "      <td>1.2575</td>\n",
       "      <td>66800.0</td>\n",
       "      <td>INLAND</td>\n",
       "    </tr>\n",
       "    <tr>\n",
       "      <th>13648</th>\n",
       "      <td>-117.31</td>\n",
       "      <td>34.07</td>\n",
       "      <td>40.0</td>\n",
       "      <td>2936.0</td>\n",
       "      <td>732.0</td>\n",
       "      <td>2024.0</td>\n",
       "      <td>676.0</td>\n",
       "      <td>2.1139</td>\n",
       "      <td>70900.0</td>\n",
       "      <td>INLAND</td>\n",
       "    </tr>\n",
       "    <tr>\n",
       "      <th>...</th>\n",
       "      <td>...</td>\n",
       "      <td>...</td>\n",
       "      <td>...</td>\n",
       "      <td>...</td>\n",
       "      <td>...</td>\n",
       "      <td>...</td>\n",
       "      <td>...</td>\n",
       "      <td>...</td>\n",
       "      <td>...</td>\n",
       "      <td>...</td>\n",
       "    </tr>\n",
       "    <tr>\n",
       "      <th>7660</th>\n",
       "      <td>-118.22</td>\n",
       "      <td>33.84</td>\n",
       "      <td>38.0</td>\n",
       "      <td>1928.0</td>\n",
       "      <td>429.0</td>\n",
       "      <td>1358.0</td>\n",
       "      <td>399.0</td>\n",
       "      <td>4.0687</td>\n",
       "      <td>160300.0</td>\n",
       "      <td>&lt;1H OCEAN</td>\n",
       "    </tr>\n",
       "    <tr>\n",
       "      <th>1543</th>\n",
       "      <td>-121.94</td>\n",
       "      <td>37.73</td>\n",
       "      <td>22.0</td>\n",
       "      <td>6719.0</td>\n",
       "      <td>1068.0</td>\n",
       "      <td>2843.0</td>\n",
       "      <td>994.0</td>\n",
       "      <td>6.1265</td>\n",
       "      <td>260300.0</td>\n",
       "      <td>&lt;1H OCEAN</td>\n",
       "    </tr>\n",
       "    <tr>\n",
       "      <th>8450</th>\n",
       "      <td>-118.35</td>\n",
       "      <td>33.91</td>\n",
       "      <td>31.0</td>\n",
       "      <td>2583.0</td>\n",
       "      <td>663.0</td>\n",
       "      <td>1675.0</td>\n",
       "      <td>612.0</td>\n",
       "      <td>3.5234</td>\n",
       "      <td>265000.0</td>\n",
       "      <td>&lt;1H OCEAN</td>\n",
       "    </tr>\n",
       "    <tr>\n",
       "      <th>5904</th>\n",
       "      <td>-118.43</td>\n",
       "      <td>34.29</td>\n",
       "      <td>39.0</td>\n",
       "      <td>1769.0</td>\n",
       "      <td>410.0</td>\n",
       "      <td>1499.0</td>\n",
       "      <td>390.0</td>\n",
       "      <td>3.1212</td>\n",
       "      <td>153500.0</td>\n",
       "      <td>&lt;1H OCEAN</td>\n",
       "    </tr>\n",
       "    <tr>\n",
       "      <th>10633</th>\n",
       "      <td>-117.79</td>\n",
       "      <td>33.70</td>\n",
       "      <td>16.0</td>\n",
       "      <td>6259.0</td>\n",
       "      <td>1098.0</td>\n",
       "      <td>3785.0</td>\n",
       "      <td>1114.0</td>\n",
       "      <td>6.3298</td>\n",
       "      <td>247100.0</td>\n",
       "      <td>&lt;1H OCEAN</td>\n",
       "    </tr>\n",
       "  </tbody>\n",
       "</table>\n",
       "<p>3138 rows × 10 columns</p>\n",
       "</div>"
      ],
      "text/plain": [
       "       longitude  latitude  housing_median_age  total_rooms  total_bedrooms  \\\n",
       "17992    -121.95     37.29                30.0       3734.0           813.0   \n",
       "6929     -118.08     34.01                34.0       1914.0           549.0   \n",
       "16483    -121.14     38.16                14.0       2591.0           497.0   \n",
       "12645    -121.47     38.52                26.0       2177.0           638.0   \n",
       "13648    -117.31     34.07                40.0       2936.0           732.0   \n",
       "...          ...       ...                 ...          ...             ...   \n",
       "7660     -118.22     33.84                38.0       1928.0           429.0   \n",
       "1543     -121.94     37.73                22.0       6719.0          1068.0   \n",
       "8450     -118.35     33.91                31.0       2583.0           663.0   \n",
       "5904     -118.43     34.29                39.0       1769.0           410.0   \n",
       "10633    -117.79     33.70                16.0       6259.0          1098.0   \n",
       "\n",
       "       population  households  median_income  median_house_value  \\\n",
       "17992      1834.0       824.0         3.4505            260000.0   \n",
       "6929       2122.0       529.0         2.5969            150200.0   \n",
       "16483      1371.0       479.0         3.5774            113900.0   \n",
       "12645      1971.0       560.0         1.2575             66800.0   \n",
       "13648      2024.0       676.0         2.1139             70900.0   \n",
       "...           ...         ...            ...                 ...   \n",
       "7660       1358.0       399.0         4.0687            160300.0   \n",
       "1543       2843.0       994.0         6.1265            260300.0   \n",
       "8450       1675.0       612.0         3.5234            265000.0   \n",
       "5904       1499.0       390.0         3.1212            153500.0   \n",
       "10633      3785.0      1114.0         6.3298            247100.0   \n",
       "\n",
       "      ocean_proximity  \n",
       "17992       <1H OCEAN  \n",
       "6929        <1H OCEAN  \n",
       "16483          INLAND  \n",
       "12645          INLAND  \n",
       "13648          INLAND  \n",
       "...               ...  \n",
       "7660        <1H OCEAN  \n",
       "1543        <1H OCEAN  \n",
       "8450        <1H OCEAN  \n",
       "5904        <1H OCEAN  \n",
       "10633       <1H OCEAN  \n",
       "\n",
       "[3138 rows x 10 columns]"
      ]
     },
     "execution_count": 98,
     "metadata": {},
     "output_type": "execute_result"
    }
   ],
   "source": [
    "test"
   ]
  },
  {
   "cell_type": "code",
   "execution_count": 99,
   "id": "6e292a56",
   "metadata": {},
   "outputs": [
    {
     "data": {
      "text/plain": [
       "longitude               0\n",
       "latitude                0\n",
       "housing_median_age      0\n",
       "total_rooms             0\n",
       "total_bedrooms        126\n",
       "population              0\n",
       "households              0\n",
       "median_income           0\n",
       "median_house_value      0\n",
       "ocean_proximity         0\n",
       "dtype: int64"
      ]
     },
     "execution_count": 99,
     "metadata": {},
     "output_type": "execute_result"
    }
   ],
   "source": [
    "train_val.isna().sum()"
   ]
  },
  {
   "cell_type": "code",
   "execution_count": 100,
   "id": "384b5243",
   "metadata": {},
   "outputs": [],
   "source": [
    "train_val['total_bedrooms'] = train_val['total_bedrooms'].fillna(0)"
   ]
  },
  {
   "cell_type": "code",
   "execution_count": 101,
   "id": "87bd4457",
   "metadata": {},
   "outputs": [
    {
     "data": {
      "text/html": [
       "<div>\n",
       "<style scoped>\n",
       "    .dataframe tbody tr th:only-of-type {\n",
       "        vertical-align: middle;\n",
       "    }\n",
       "\n",
       "    .dataframe tbody tr th {\n",
       "        vertical-align: top;\n",
       "    }\n",
       "\n",
       "    .dataframe thead th {\n",
       "        text-align: right;\n",
       "    }\n",
       "</style>\n",
       "<table border=\"1\" class=\"dataframe\">\n",
       "  <thead>\n",
       "    <tr style=\"text-align: right;\">\n",
       "      <th></th>\n",
       "      <th>longitude</th>\n",
       "      <th>latitude</th>\n",
       "      <th>housing_median_age</th>\n",
       "      <th>total_rooms</th>\n",
       "      <th>total_bedrooms</th>\n",
       "      <th>population</th>\n",
       "      <th>households</th>\n",
       "      <th>median_income</th>\n",
       "      <th>median_house_value</th>\n",
       "      <th>ocean_proximity</th>\n",
       "    </tr>\n",
       "  </thead>\n",
       "  <tbody>\n",
       "    <tr>\n",
       "      <th>14737</th>\n",
       "      <td>-117.05</td>\n",
       "      <td>32.82</td>\n",
       "      <td>16.0</td>\n",
       "      <td>4046.0</td>\n",
       "      <td>731.0</td>\n",
       "      <td>1684.0</td>\n",
       "      <td>701.0</td>\n",
       "      <td>4.2312</td>\n",
       "      <td>197000.0</td>\n",
       "      <td>&lt;1H OCEAN</td>\n",
       "    </tr>\n",
       "    <tr>\n",
       "      <th>7094</th>\n",
       "      <td>-118.00</td>\n",
       "      <td>33.91</td>\n",
       "      <td>19.0</td>\n",
       "      <td>5166.0</td>\n",
       "      <td>770.0</td>\n",
       "      <td>2374.0</td>\n",
       "      <td>753.0</td>\n",
       "      <td>5.9790</td>\n",
       "      <td>285200.0</td>\n",
       "      <td>&lt;1H OCEAN</td>\n",
       "    </tr>\n",
       "    <tr>\n",
       "      <th>18022</th>\n",
       "      <td>-121.96</td>\n",
       "      <td>37.25</td>\n",
       "      <td>35.0</td>\n",
       "      <td>1018.0</td>\n",
       "      <td>169.0</td>\n",
       "      <td>484.0</td>\n",
       "      <td>174.0</td>\n",
       "      <td>6.1648</td>\n",
       "      <td>371900.0</td>\n",
       "      <td>&lt;1H OCEAN</td>\n",
       "    </tr>\n",
       "    <tr>\n",
       "      <th>17597</th>\n",
       "      <td>-121.89</td>\n",
       "      <td>37.30</td>\n",
       "      <td>47.0</td>\n",
       "      <td>1604.0</td>\n",
       "      <td>284.0</td>\n",
       "      <td>639.0</td>\n",
       "      <td>278.0</td>\n",
       "      <td>5.8415</td>\n",
       "      <td>283300.0</td>\n",
       "      <td>&lt;1H OCEAN</td>\n",
       "    </tr>\n",
       "    <tr>\n",
       "      <th>7704</th>\n",
       "      <td>-118.14</td>\n",
       "      <td>33.96</td>\n",
       "      <td>34.0</td>\n",
       "      <td>2744.0</td>\n",
       "      <td>541.0</td>\n",
       "      <td>1333.0</td>\n",
       "      <td>503.0</td>\n",
       "      <td>4.0536</td>\n",
       "      <td>277200.0</td>\n",
       "      <td>&lt;1H OCEAN</td>\n",
       "    </tr>\n",
       "    <tr>\n",
       "      <th>...</th>\n",
       "      <td>...</td>\n",
       "      <td>...</td>\n",
       "      <td>...</td>\n",
       "      <td>...</td>\n",
       "      <td>...</td>\n",
       "      <td>...</td>\n",
       "      <td>...</td>\n",
       "      <td>...</td>\n",
       "      <td>...</td>\n",
       "      <td>...</td>\n",
       "    </tr>\n",
       "    <tr>\n",
       "      <th>10555</th>\n",
       "      <td>-117.71</td>\n",
       "      <td>33.63</td>\n",
       "      <td>16.0</td>\n",
       "      <td>2497.0</td>\n",
       "      <td>500.0</td>\n",
       "      <td>1357.0</td>\n",
       "      <td>456.0</td>\n",
       "      <td>4.5909</td>\n",
       "      <td>241800.0</td>\n",
       "      <td>&lt;1H OCEAN</td>\n",
       "    </tr>\n",
       "    <tr>\n",
       "      <th>11806</th>\n",
       "      <td>-121.14</td>\n",
       "      <td>38.92</td>\n",
       "      <td>16.0</td>\n",
       "      <td>2069.0</td>\n",
       "      <td>312.0</td>\n",
       "      <td>889.0</td>\n",
       "      <td>299.0</td>\n",
       "      <td>4.6771</td>\n",
       "      <td>212000.0</td>\n",
       "      <td>INLAND</td>\n",
       "    </tr>\n",
       "    <tr>\n",
       "      <th>7497</th>\n",
       "      <td>-118.25</td>\n",
       "      <td>33.93</td>\n",
       "      <td>42.0</td>\n",
       "      <td>763.0</td>\n",
       "      <td>191.0</td>\n",
       "      <td>754.0</td>\n",
       "      <td>174.0</td>\n",
       "      <td>2.0486</td>\n",
       "      <td>101800.0</td>\n",
       "      <td>&lt;1H OCEAN</td>\n",
       "    </tr>\n",
       "    <tr>\n",
       "      <th>15103</th>\n",
       "      <td>-116.99</td>\n",
       "      <td>32.85</td>\n",
       "      <td>32.0</td>\n",
       "      <td>5211.0</td>\n",
       "      <td>949.0</td>\n",
       "      <td>3025.0</td>\n",
       "      <td>948.0</td>\n",
       "      <td>4.0931</td>\n",
       "      <td>134200.0</td>\n",
       "      <td>&lt;1H OCEAN</td>\n",
       "    </tr>\n",
       "    <tr>\n",
       "      <th>19216</th>\n",
       "      <td>-122.68</td>\n",
       "      <td>38.48</td>\n",
       "      <td>15.0</td>\n",
       "      <td>1575.0</td>\n",
       "      <td>262.0</td>\n",
       "      <td>716.0</td>\n",
       "      <td>259.0</td>\n",
       "      <td>5.3409</td>\n",
       "      <td>244600.0</td>\n",
       "      <td>&lt;1H OCEAN</td>\n",
       "    </tr>\n",
       "  </tbody>\n",
       "</table>\n",
       "<p>12549 rows × 10 columns</p>\n",
       "</div>"
      ],
      "text/plain": [
       "       longitude  latitude  housing_median_age  total_rooms  total_bedrooms  \\\n",
       "14737    -117.05     32.82                16.0       4046.0           731.0   \n",
       "7094     -118.00     33.91                19.0       5166.0           770.0   \n",
       "18022    -121.96     37.25                35.0       1018.0           169.0   \n",
       "17597    -121.89     37.30                47.0       1604.0           284.0   \n",
       "7704     -118.14     33.96                34.0       2744.0           541.0   \n",
       "...          ...       ...                 ...          ...             ...   \n",
       "10555    -117.71     33.63                16.0       2497.0           500.0   \n",
       "11806    -121.14     38.92                16.0       2069.0           312.0   \n",
       "7497     -118.25     33.93                42.0        763.0           191.0   \n",
       "15103    -116.99     32.85                32.0       5211.0           949.0   \n",
       "19216    -122.68     38.48                15.0       1575.0           262.0   \n",
       "\n",
       "       population  households  median_income  median_house_value  \\\n",
       "14737      1684.0       701.0         4.2312            197000.0   \n",
       "7094       2374.0       753.0         5.9790            285200.0   \n",
       "18022       484.0       174.0         6.1648            371900.0   \n",
       "17597       639.0       278.0         5.8415            283300.0   \n",
       "7704       1333.0       503.0         4.0536            277200.0   \n",
       "...           ...         ...            ...                 ...   \n",
       "10555      1357.0       456.0         4.5909            241800.0   \n",
       "11806       889.0       299.0         4.6771            212000.0   \n",
       "7497        754.0       174.0         2.0486            101800.0   \n",
       "15103      3025.0       948.0         4.0931            134200.0   \n",
       "19216       716.0       259.0         5.3409            244600.0   \n",
       "\n",
       "      ocean_proximity  \n",
       "14737       <1H OCEAN  \n",
       "7094        <1H OCEAN  \n",
       "18022       <1H OCEAN  \n",
       "17597       <1H OCEAN  \n",
       "7704        <1H OCEAN  \n",
       "...               ...  \n",
       "10555       <1H OCEAN  \n",
       "11806          INLAND  \n",
       "7497        <1H OCEAN  \n",
       "15103       <1H OCEAN  \n",
       "19216       <1H OCEAN  \n",
       "\n",
       "[12549 rows x 10 columns]"
      ]
     },
     "execution_count": 101,
     "metadata": {},
     "output_type": "execute_result"
    }
   ],
   "source": [
    "train_val"
   ]
  },
  {
   "cell_type": "code",
   "execution_count": null,
   "id": "736587dd",
   "metadata": {},
   "outputs": [],
   "source": []
  },
  {
   "cell_type": "code",
   "execution_count": 102,
   "id": "d8ccfc74",
   "metadata": {},
   "outputs": [],
   "source": [
    "y_train_val = np.log1p(train_val.median_house_value.values)\n",
    "y_test = np.log1p(test.median_house_value.values)"
   ]
  },
  {
   "cell_type": "code",
   "execution_count": 103,
   "id": "7f6a4e70",
   "metadata": {},
   "outputs": [],
   "source": [
    "del train_val['median_house_value']\n",
    "del test['median_house_value']"
   ]
  },
  {
   "cell_type": "code",
   "execution_count": 104,
   "id": "12133daa",
   "metadata": {},
   "outputs": [],
   "source": [
    "def prepare_X(df):\n",
    "    df_num = df[base]\n",
    "    df_num = df_num.fillna(0)\n",
    "    X = df_num.values\n",
    "    return X"
   ]
  },
  {
   "cell_type": "code",
   "execution_count": 105,
   "id": "f2a050e8",
   "metadata": {},
   "outputs": [],
   "source": [
    "def train_linear_regression_reg(X, y, r):\n",
    "    ones = np.ones(X.shape[0])\n",
    "    X = np.column_stack([ones, X])\n",
    "    \n",
    "    XTX = X.T.dot(X)\n",
    "    XTX = XTX + r + np.eye(XTX.shape[0])\n",
    "    \n",
    "    XTX_inv = np.linalg.inv(XTX)\n",
    "    w_full = XTX_inv.dot(X.T).dot(y)\n",
    "    \n",
    "    return w_full[0], w_full[1:]"
   ]
  },
  {
   "cell_type": "code",
   "execution_count": 106,
   "id": "bccdf413",
   "metadata": {},
   "outputs": [
    {
     "data": {
      "text/plain": [
       "0.39193889518602754"
      ]
     },
     "execution_count": 106,
     "metadata": {},
     "output_type": "execute_result"
    }
   ],
   "source": [
    "X_train_1 = prepare_X(train_val)\n",
    "w0, w = train_linear_regression_reg(X_train_1, y_train_val, r=0.001)\n",
    "\n",
    "X_val = prepare_X(train_val)\n",
    "y_pred = w0 + X_val.dot(w)\n",
    "rmse(y_train_val, y_pred)"
   ]
  },
  {
   "cell_type": "markdown",
   "id": "ee82dc8e",
   "metadata": {},
   "source": [
    "## Question 6"
   ]
  },
  {
   "cell_type": "code",
   "execution_count": 107,
   "id": "c886a967",
   "metadata": {},
   "outputs": [],
   "source": [
    "n = len(sub_df)\n",
    "\n",
    "n_val = int(n * 0.2)\n",
    "n_test = int(n * 0.2)\n",
    "n_train = n - n_val - n_test"
   ]
  },
  {
   "cell_type": "code",
   "execution_count": 108,
   "id": "27687cf0",
   "metadata": {},
   "outputs": [
    {
     "data": {
      "text/plain": [
       "(3137, 3137, 9413)"
      ]
     },
     "execution_count": 108,
     "metadata": {},
     "output_type": "execute_result"
    }
   ],
   "source": [
    "n_val, n_test, n_train"
   ]
  },
  {
   "cell_type": "code",
   "execution_count": 109,
   "id": "d4c02dac",
   "metadata": {},
   "outputs": [],
   "source": [
    "df_train = df.iloc[:n_train]\n",
    "df_val = df.iloc[n_train:n_train+n_val]\n",
    "df_test = df.iloc[n_train+n_val:]"
   ]
  },
  {
   "cell_type": "code",
   "execution_count": 110,
   "id": "e747cf4e",
   "metadata": {},
   "outputs": [],
   "source": [
    "idx = np.arange(n)"
   ]
  },
  {
   "cell_type": "code",
   "execution_count": 111,
   "id": "d621842e",
   "metadata": {},
   "outputs": [],
   "source": [
    "np.random.seed(9)\n",
    "np.random.shuffle(idx)"
   ]
  },
  {
   "cell_type": "code",
   "execution_count": 112,
   "id": "1d37f357",
   "metadata": {},
   "outputs": [],
   "source": [
    "df_train = df.iloc[idx[:n_train]]\n",
    "df_val = df.iloc[idx[n_train:n_train+n_val]]\n",
    "df_test = df.iloc[idx[n_train+n_val:]]"
   ]
  },
  {
   "cell_type": "code",
   "execution_count": 113,
   "id": "b38071ab",
   "metadata": {},
   "outputs": [
    {
     "data": {
      "text/html": [
       "<div>\n",
       "<style scoped>\n",
       "    .dataframe tbody tr th:only-of-type {\n",
       "        vertical-align: middle;\n",
       "    }\n",
       "\n",
       "    .dataframe tbody tr th {\n",
       "        vertical-align: top;\n",
       "    }\n",
       "\n",
       "    .dataframe thead th {\n",
       "        text-align: right;\n",
       "    }\n",
       "</style>\n",
       "<table border=\"1\" class=\"dataframe\">\n",
       "  <thead>\n",
       "    <tr style=\"text-align: right;\">\n",
       "      <th></th>\n",
       "      <th>longitude</th>\n",
       "      <th>latitude</th>\n",
       "      <th>housing_median_age</th>\n",
       "      <th>total_rooms</th>\n",
       "      <th>total_bedrooms</th>\n",
       "      <th>population</th>\n",
       "      <th>households</th>\n",
       "      <th>median_income</th>\n",
       "      <th>median_house_value</th>\n",
       "      <th>ocean_proximity</th>\n",
       "    </tr>\n",
       "  </thead>\n",
       "  <tbody>\n",
       "    <tr>\n",
       "      <th>11994</th>\n",
       "      <td>-117.60</td>\n",
       "      <td>33.94</td>\n",
       "      <td>26.0</td>\n",
       "      <td>2925.0</td>\n",
       "      <td>575.0</td>\n",
       "      <td>1921.0</td>\n",
       "      <td>501.0</td>\n",
       "      <td>3.1859</td>\n",
       "      <td>153100.0</td>\n",
       "      <td>INLAND</td>\n",
       "    </tr>\n",
       "    <tr>\n",
       "      <th>5634</th>\n",
       "      <td>-118.28</td>\n",
       "      <td>33.74</td>\n",
       "      <td>40.0</td>\n",
       "      <td>1751.0</td>\n",
       "      <td>512.0</td>\n",
       "      <td>1939.0</td>\n",
       "      <td>503.0</td>\n",
       "      <td>1.5394</td>\n",
       "      <td>200000.0</td>\n",
       "      <td>NEAR OCEAN</td>\n",
       "    </tr>\n",
       "    <tr>\n",
       "      <th>13629</th>\n",
       "      <td>-117.33</td>\n",
       "      <td>34.08</td>\n",
       "      <td>35.0</td>\n",
       "      <td>2240.0</td>\n",
       "      <td>423.0</td>\n",
       "      <td>1394.0</td>\n",
       "      <td>396.0</td>\n",
       "      <td>3.1799</td>\n",
       "      <td>86700.0</td>\n",
       "      <td>INLAND</td>\n",
       "    </tr>\n",
       "    <tr>\n",
       "      <th>13205</th>\n",
       "      <td>-117.70</td>\n",
       "      <td>34.05</td>\n",
       "      <td>24.0</td>\n",
       "      <td>2834.0</td>\n",
       "      <td>470.0</td>\n",
       "      <td>1815.0</td>\n",
       "      <td>471.0</td>\n",
       "      <td>4.7357</td>\n",
       "      <td>162500.0</td>\n",
       "      <td>INLAND</td>\n",
       "    </tr>\n",
       "    <tr>\n",
       "      <th>6243</th>\n",
       "      <td>-117.98</td>\n",
       "      <td>34.05</td>\n",
       "      <td>35.0</td>\n",
       "      <td>2342.0</td>\n",
       "      <td>426.0</td>\n",
       "      <td>2176.0</td>\n",
       "      <td>416.0</td>\n",
       "      <td>3.7454</td>\n",
       "      <td>156900.0</td>\n",
       "      <td>&lt;1H OCEAN</td>\n",
       "    </tr>\n",
       "  </tbody>\n",
       "</table>\n",
       "</div>"
      ],
      "text/plain": [
       "       longitude  latitude  housing_median_age  total_rooms  total_bedrooms  \\\n",
       "11994    -117.60     33.94                26.0       2925.0           575.0   \n",
       "5634     -118.28     33.74                40.0       1751.0           512.0   \n",
       "13629    -117.33     34.08                35.0       2240.0           423.0   \n",
       "13205    -117.70     34.05                24.0       2834.0           470.0   \n",
       "6243     -117.98     34.05                35.0       2342.0           426.0   \n",
       "\n",
       "       population  households  median_income  median_house_value  \\\n",
       "11994      1921.0       501.0         3.1859            153100.0   \n",
       "5634       1939.0       503.0         1.5394            200000.0   \n",
       "13629      1394.0       396.0         3.1799             86700.0   \n",
       "13205      1815.0       471.0         4.7357            162500.0   \n",
       "6243       2176.0       416.0         3.7454            156900.0   \n",
       "\n",
       "      ocean_proximity  \n",
       "11994          INLAND  \n",
       "5634       NEAR OCEAN  \n",
       "13629          INLAND  \n",
       "13205          INLAND  \n",
       "6243        <1H OCEAN  "
      ]
     },
     "execution_count": 113,
     "metadata": {},
     "output_type": "execute_result"
    }
   ],
   "source": [
    "df_train.head()"
   ]
  },
  {
   "cell_type": "code",
   "execution_count": 114,
   "id": "6ae7e218",
   "metadata": {},
   "outputs": [
    {
     "data": {
      "text/plain": [
       "(9413, 3137, 3137)"
      ]
     },
     "execution_count": 114,
     "metadata": {},
     "output_type": "execute_result"
    }
   ],
   "source": [
    "len(df_train), len(df_val), len(df_test)"
   ]
  },
  {
   "cell_type": "code",
   "execution_count": 115,
   "id": "01a37480",
   "metadata": {},
   "outputs": [],
   "source": [
    "frames = [df_train, df_val]"
   ]
  },
  {
   "cell_type": "code",
   "execution_count": 116,
   "id": "86f96424",
   "metadata": {},
   "outputs": [],
   "source": [
    "df_train_val = pd.concat(frames)"
   ]
  },
  {
   "cell_type": "code",
   "execution_count": 117,
   "id": "519126dd",
   "metadata": {},
   "outputs": [],
   "source": [
    "df_train = df_train.reset_index(drop=True)\n",
    "df_val = df_val.reset_index(drop=True)\n",
    "df_test = df_test.reset_index(drop=True)"
   ]
  },
  {
   "cell_type": "code",
   "execution_count": 118,
   "id": "f03f81b6",
   "metadata": {},
   "outputs": [],
   "source": [
    "y_train = np.log1p(df_train.median_house_value.values)\n",
    "y_val = np.log1p(df_val.median_house_value.values)\n",
    "y_test = np.log1p(df_test.median_house_value.values)"
   ]
  },
  {
   "cell_type": "code",
   "execution_count": 119,
   "id": "fae0417e",
   "metadata": {},
   "outputs": [],
   "source": [
    "del df_train['median_house_value']\n",
    "del df_val['median_house_value']\n",
    "del df_test['median_house_value']"
   ]
  },
  {
   "cell_type": "code",
   "execution_count": 120,
   "id": "7ef8b66a",
   "metadata": {},
   "outputs": [
    {
     "ename": "ValueError",
     "evalue": "shapes (7,12550) and (9413,) not aligned: 12550 (dim 1) != 9413 (dim 0)",
     "output_type": "error",
     "traceback": [
      "\u001b[0;31m---------------------------------------------------------------------------\u001b[0m",
      "\u001b[0;31mValueError\u001b[0m                                Traceback (most recent call last)",
      "Cell \u001b[0;32mIn[120], line 3\u001b[0m\n\u001b[1;32m      1\u001b[0m r \u001b[38;5;241m=\u001b[39m \u001b[38;5;241m0.001\u001b[39m\n\u001b[1;32m      2\u001b[0m X_train \u001b[38;5;241m=\u001b[39m prepare_X(df_train_val)\n\u001b[0;32m----> 3\u001b[0m w0, w \u001b[38;5;241m=\u001b[39m train_linear_regression_reg(X_train, y_train, r\u001b[38;5;241m=\u001b[39mr)\n\u001b[1;32m      5\u001b[0m X_val \u001b[38;5;241m=\u001b[39m prepare_X(df_train_val)\n\u001b[1;32m      6\u001b[0m y_pred \u001b[38;5;241m=\u001b[39m w0 \u001b[38;5;241m+\u001b[39m X_val\u001b[38;5;241m.\u001b[39mdot(w)\n",
      "Cell \u001b[0;32mIn[105], line 9\u001b[0m, in \u001b[0;36mtrain_linear_regression_reg\u001b[0;34m(X, y, r)\u001b[0m\n\u001b[1;32m      6\u001b[0m XTX \u001b[38;5;241m=\u001b[39m XTX \u001b[38;5;241m+\u001b[39m r \u001b[38;5;241m+\u001b[39m np\u001b[38;5;241m.\u001b[39meye(XTX\u001b[38;5;241m.\u001b[39mshape[\u001b[38;5;241m0\u001b[39m])\n\u001b[1;32m      8\u001b[0m XTX_inv \u001b[38;5;241m=\u001b[39m np\u001b[38;5;241m.\u001b[39mlinalg\u001b[38;5;241m.\u001b[39minv(XTX)\n\u001b[0;32m----> 9\u001b[0m w_full \u001b[38;5;241m=\u001b[39m XTX_inv\u001b[38;5;241m.\u001b[39mdot(X\u001b[38;5;241m.\u001b[39mT)\u001b[38;5;241m.\u001b[39mdot(y)\n\u001b[1;32m     11\u001b[0m \u001b[38;5;28;01mreturn\u001b[39;00m w_full[\u001b[38;5;241m0\u001b[39m], w_full[\u001b[38;5;241m1\u001b[39m:]\n",
      "\u001b[0;31mValueError\u001b[0m: shapes (7,12550) and (9413,) not aligned: 12550 (dim 1) != 9413 (dim 0)"
     ]
    }
   ],
   "source": [
    "r = 0.001\n",
    "X_train = prepare_X(df_train_val)\n",
    "w0, w = train_linear_regression_reg(X_train, y_train, r=r)\n",
    "\n",
    "X_val = prepare_X(df_train_val)\n",
    "y_pred = w0 + X_val.dot(w)\n",
    "score = rmse(y_val, y_pred)\n",
    "score"
   ]
  },
  {
   "cell_type": "code",
   "execution_count": null,
   "id": "7dfe894e",
   "metadata": {},
   "outputs": [],
   "source": []
  },
  {
   "cell_type": "code",
   "execution_count": null,
   "id": "a6a34450",
   "metadata": {},
   "outputs": [],
   "source": []
  },
  {
   "cell_type": "code",
   "execution_count": null,
   "id": "57aeb14a",
   "metadata": {},
   "outputs": [],
   "source": []
  }
 ],
 "metadata": {
  "kernelspec": {
   "display_name": "Python 3 (ipykernel)",
   "language": "python",
   "name": "python3"
  },
  "language_info": {
   "codemirror_mode": {
    "name": "ipython",
    "version": 3
   },
   "file_extension": ".py",
   "mimetype": "text/x-python",
   "name": "python",
   "nbconvert_exporter": "python",
   "pygments_lexer": "ipython3",
   "version": "3.11.4"
  }
 },
 "nbformat": 4,
 "nbformat_minor": 5
}
